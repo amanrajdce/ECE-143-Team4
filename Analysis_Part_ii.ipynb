{
 "cells": [
  {
   "cell_type": "markdown",
   "metadata": {},
   "source": [
    "#### Using new categorized salary data of selected companies.\n",
    "#### edited on 11.16"
   ]
  },
  {
   "cell_type": "markdown",
   "metadata": {},
   "source": [
    "## 1.1 What kind of jobs can get the highest salary in the current days?\n",
    "#### salary range for categories"
   ]
  },
  {
   "cell_type": "code",
   "execution_count": 3,
   "metadata": {},
   "outputs": [],
   "source": [
    "import numpy as np\n",
    "import pandas as pd\n",
    "import matplotlib.pyplot as plt\n",
    "import math\n",
    "import re\n",
    "import seaborn as sns\n",
    "from scipy import stats\n",
    "import sys"
   ]
  },
  {
   "cell_type": "code",
   "execution_count": 4,
   "metadata": {},
   "outputs": [],
   "source": [
    "data = pd.read_csv('./Scraper/SalaryScraper/fulltime_merged_salaries_company_table.csv')"
   ]
  },
  {
   "cell_type": "code",
   "execution_count": 33,
   "metadata": {},
   "outputs": [],
   "source": [
    "groups = data.groupby('category')\n",
    "eng = groups.get_group('engineering')\n",
    "it = groups.get_group('it')\n",
    "managerial = groups.get_group('managerial')\n",
    "marketing = groups.get_group('marketing')\n",
    "others = groups.get_group('others')\n",
    "sales = groups.get_group('sales')"
   ]
  },
  {
   "cell_type": "code",
   "execution_count": 41,
   "metadata": {},
   "outputs": [],
   "source": [
    "def salary_of_category(d):\n",
    "    '''\n",
    "    for all non-0 input\n",
    "    return range of this category\n",
    "    '''\n",
    "    salary = d[d.salary_range.notnull()]['salary_range']\n",
    "    s = salary.str.replace('K', '').str.replace('$', '').str.replace('€', '').str.replace(\"Range: \", '')\n",
    "    s = s.apply(lambda x: pd.Series(x.split(' - '))) \n",
    "    s = s.astype('int')\n",
    "    return s"
   ]
  },
  {
   "cell_type": "code",
   "execution_count": 42,
   "metadata": {},
   "outputs": [],
   "source": [
    "# Data frame of low / high salary\n",
    "ave_eng = (salary_of_category(eng))\n",
    "ave_it  = (salary_of_category(it))\n",
    "ave_managerial  = (salary_of_category(managerial))\n",
    "ave_marketing  = (salary_of_category(marketing))\n",
    "ave_others  = (salary_of_category(others))\n",
    "ave_sales  = (salary_of_category(sales))"
   ]
  },
  {
   "cell_type": "code",
   "execution_count": 43,
   "metadata": {},
   "outputs": [],
   "source": [
    "# low / high average\n",
    "salary_eng = ave_eng.sum()/len(ave_eng)\n",
    "salary_it  = ave_it.sum()/len(ave_it)\n",
    "salary_mana  = ave_managerial.sum()/len(ave_managerial)\n",
    "salary_mk  = ave_marketing.sum()/len(ave_marketing)\n",
    "salary_other = ave_others.sum()/len(ave_others)\n",
    "salary_sales = ave_sales.sum()/len(ave_sales)"
   ]
  },
  {
   "cell_type": "code",
   "execution_count": 51,
   "metadata": {},
   "outputs": [
    {
     "data": {
      "image/png": "[encoded data removed]",
      "text/plain": [
       "<Figure size 432x288 with 1 Axes>"
      ]
     },
     "metadata": {
      "needs_background": "light"
     },
     "output_type": "display_data"
    }
   ],
   "source": [
    "# plot graph\n",
    "name_list = ['Engineering','IT','Managerial','Marketing', 'Sales', 'Others']\n",
    "num_list1 = [salary_eng[0],salary_it[0],salary_mana[0],salary_mk[0],salary_other[0],salary_sales[0]]\n",
    "num_list2 = [salary_eng[1],salary_it[1],salary_mana[1],salary_mk[1],salary_other[1],salary_sales[1]]\n",
    "x =list(range(len(num_list1)))\n",
    "total_width, n = 0.8, 2\n",
    "width = total_width / n\n",
    "plt.bar(x, num_list1, width=width, label='average low', color = 'bisque')\n",
    "for i in range(len(x)):\n",
    "    x[i] = x[i] + width\n",
    "plt.bar(x, num_list2, width=width, label='average high', tick_label = name_list, color = 'coral')\n",
    "plt.legend()\n",
    "plt.title('Average salary of jobs',fontsize='large')\n",
    "plt.show()"
   ]
  },
  {
   "cell_type": "markdown",
   "metadata": {},
   "source": [
    "### 1.2 The distribution of salary in each category"
   ]
  },
  {
   "cell_type": "code",
   "execution_count": null,
   "metadata": {},
   "outputs": [],
   "source": [
    "f, (ax1, ax2) = plt.subplots(2, 1, sharex=True, figsize=(8, 6))\n",
    "c1, c2, c3 = sns.color_palette('Set1', 3)\n",
    "sns.kdeplot(ave_eng[0], label = 'average low-engineering', shade=True, color=c2, ax=ax1)\n",
    "sns.kdeplot(ave_eng[1], label = 'average high-engineering',shade=True, color=c3, ax=ax1)\n",
    "sns.kdeplot(ave_fn[0], label = 'average low-finance', shade=True, color=c2, ax=ax2)\n",
    "sns.kdeplot(ave_fn[1], label = 'average high-finance',shade=True, color=c3, ax=ax2)"
   ]
  }
 ],
 "metadata": {
  "kernelspec": {
   "display_name": "Python 3",
   "language": "python",
   "name": "python3"
  },
  "language_info": {
   "codemirror_mode": {
    "name": "ipython",
    "version": 3
   },
   "file_extension": ".py",
   "mimetype": "text/x-python",
   "name": "python",
   "nbconvert_exporter": "python",
   "pygments_lexer": "ipython3",
   "version": "3.7.4"
  }
 },
 "nbformat": 4,
 "nbformat_minor": 2
}
