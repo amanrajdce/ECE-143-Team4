{
 "cells": [
  {
   "cell_type": "code",
   "execution_count": 44,
   "metadata": {},
   "outputs": [],
   "source": [
    "import pandas as pd\n",
    "import numpy as np\n",
    "import string\n",
    "import matplotlib.pyplot as plt\n",
    "import os"
   ]
  },
  {
   "cell_type": "markdown",
   "metadata": {},
   "source": [
    "## Merge Review Tables"
   ]
  },
  {
   "cell_type": "code",
   "execution_count": 45,
   "metadata": {},
   "outputs": [],
   "source": [
    "review_fold = \"./Scraper/ReviewScraper/\"\n",
    "tables_fold = review_fold + \"tables/\"\n",
    "files = os.listdir(tables_fold)\n",
    "files = [f for f in files if \".csv\" in f]"
   ]
  },
  {
   "cell_type": "code",
   "execution_count": 46,
   "metadata": {},
   "outputs": [],
   "source": [
    "tables = []\n",
    "for f in files:\n",
    "    tab = pd.read_csv(tables_fold + f)\n",
    "    comp = f.split(\"_\")[0].lower()\n",
    "    tab['company'] = [comp] * len(tab)\n",
    "    tables.append(tab)"
   ]
  },
  {
   "cell_type": "code",
   "execution_count": 47,
   "metadata": {},
   "outputs": [],
   "source": [
    "# merge tables\n",
    "merge_table = pd.concat(tables, ignore_index=True, sort=False)\n",
    "# drop duplicates\n",
    "merge_table = merge_table.drop_duplicates()\n",
    "merge_table = merge_table.reset_index(drop=True)"
   ]
  },
  {
   "cell_type": "code",
   "execution_count": 48,
   "metadata": {},
   "outputs": [
    {
     "name": "stdout",
     "output_type": "stream",
     "text": [
      "Total samples in merged table: 6066\n"
     ]
    }
   ],
   "source": [
    "print(\"Total samples in merged table: {}\".format(len(merge_table)))"
   ]
  },
  {
   "cell_type": "code",
   "execution_count": 49,
   "metadata": {},
   "outputs": [
    {
     "data": {
      "text/html": [
       "<div>\n",
       "<style scoped>\n",
       "    .dataframe tbody tr th:only-of-type {\n",
       "        vertical-align: middle;\n",
       "    }\n",
       "\n",
       "    .dataframe tbody tr th {\n",
       "        vertical-align: top;\n",
       "    }\n",
       "\n",
       "    .dataframe thead th {\n",
       "        text-align: right;\n",
       "    }\n",
       "</style>\n",
       "<table border=\"1\" class=\"dataframe\">\n",
       "  <thead>\n",
       "    <tr style=\"text-align: right;\">\n",
       "      <th></th>\n",
       "      <th>date</th>\n",
       "      <th>employee_title</th>\n",
       "      <th>location</th>\n",
       "      <th>employee_status</th>\n",
       "      <th>review_title</th>\n",
       "      <th>years_at_company</th>\n",
       "      <th>helpful</th>\n",
       "      <th>pros</th>\n",
       "      <th>cons</th>\n",
       "      <th>advice_to_mgmt</th>\n",
       "      <th>rating_overall</th>\n",
       "      <th>rating_balance</th>\n",
       "      <th>rating_culture</th>\n",
       "      <th>rating_career</th>\n",
       "      <th>rating_comp</th>\n",
       "      <th>rating_mgmt</th>\n",
       "      <th>company</th>\n",
       "    </tr>\n",
       "  </thead>\n",
       "  <tbody>\n",
       "    <tr>\n",
       "      <th>0</th>\n",
       "      <td>Sat Nov 02 2019 17:40:06 GMT-0700 (Pacific Day...</td>\n",
       "      <td>Software Engineer</td>\n",
       "      <td>San Francisco, CA</td>\n",
       "      <td>Current Employee</td>\n",
       "      <td>Good company</td>\n",
       "      <td>I have been working at Dropbox full-time for l...</td>\n",
       "      <td>NaN</td>\n",
       "      <td>Good food(the best part), good environment,</td>\n",
       "      <td>Product is not competitive\\nManagement needs s...</td>\n",
       "      <td>NaN</td>\n",
       "      <td>5.0</td>\n",
       "      <td>5.0</td>\n",
       "      <td>5.0</td>\n",
       "      <td>5.0</td>\n",
       "      <td>5.0</td>\n",
       "      <td>5.0</td>\n",
       "      <td>dropbox</td>\n",
       "    </tr>\n",
       "    <tr>\n",
       "      <th>1</th>\n",
       "      <td>Mon Sep 23 2019 20:40:55 GMT-0700 (Pacific Day...</td>\n",
       "      <td>Account Executive</td>\n",
       "      <td>Austin, TX</td>\n",
       "      <td>Current Employee</td>\n",
       "      <td>Great place to work</td>\n",
       "      <td>I have been working at Dropbox full-time for m...</td>\n",
       "      <td>NaN</td>\n",
       "      <td>In-house chefs serving premium breakfast/lunch...</td>\n",
       "      <td>no cons specific to Dropbox</td>\n",
       "      <td>NaN</td>\n",
       "      <td>5.0</td>\n",
       "      <td>5.0</td>\n",
       "      <td>5.0</td>\n",
       "      <td>5.0</td>\n",
       "      <td>5.0</td>\n",
       "      <td>5.0</td>\n",
       "      <td>dropbox</td>\n",
       "    </tr>\n",
       "    <tr>\n",
       "      <th>2</th>\n",
       "      <td>Mon Oct 14 2019 14:08:26 GMT-0700 (Pacific Day...</td>\n",
       "      <td>Research</td>\n",
       "      <td>San Francisco, CA</td>\n",
       "      <td>Current Employee</td>\n",
       "      <td>Avoid this place</td>\n",
       "      <td>I have been working at Dropbox full-time for l...</td>\n",
       "      <td>7.0</td>\n",
       "      <td>1. Food; hands down best food in tech. \\n2. We...</td>\n",
       "      <td>1. Poor leadership; director+ are indecisive, ...</td>\n",
       "      <td>Hire more experienced industry leaders.</td>\n",
       "      <td>1.0</td>\n",
       "      <td>1.0</td>\n",
       "      <td>1.0</td>\n",
       "      <td>1.0</td>\n",
       "      <td>2.0</td>\n",
       "      <td>1.0</td>\n",
       "      <td>dropbox</td>\n",
       "    </tr>\n",
       "    <tr>\n",
       "      <th>3</th>\n",
       "      <td>Fri Sep 13 2019 10:19:38 GMT-0700 (Pacific Day...</td>\n",
       "      <td>Manager</td>\n",
       "      <td>NaN</td>\n",
       "      <td>Former Employee</td>\n",
       "      <td>great place to work</td>\n",
       "      <td>I worked at Dropbox full-time for less than a ...</td>\n",
       "      <td>NaN</td>\n",
       "      <td>everything, culture, benefit, people, work lif...</td>\n",
       "      <td>growing company comes with growing pain.</td>\n",
       "      <td>NaN</td>\n",
       "      <td>5.0</td>\n",
       "      <td>5.0</td>\n",
       "      <td>5.0</td>\n",
       "      <td>4.0</td>\n",
       "      <td>5.0</td>\n",
       "      <td>5.0</td>\n",
       "      <td>dropbox</td>\n",
       "    </tr>\n",
       "    <tr>\n",
       "      <th>4</th>\n",
       "      <td>Tue Sep 10 2019 15:34:52 GMT-0700 (Pacific Day...</td>\n",
       "      <td>Senior Software Engineer</td>\n",
       "      <td>San Francisco, CA</td>\n",
       "      <td>Current Employee</td>\n",
       "      <td>Great place to work and be creative</td>\n",
       "      <td>I have been working at Dropbox full-time for l...</td>\n",
       "      <td>NaN</td>\n",
       "      <td>Really appreciates you as an employee. Perks, ...</td>\n",
       "      <td>Management is young and inexperienced. It show...</td>\n",
       "      <td>NaN</td>\n",
       "      <td>5.0</td>\n",
       "      <td>5.0</td>\n",
       "      <td>5.0</td>\n",
       "      <td>4.0</td>\n",
       "      <td>5.0</td>\n",
       "      <td>3.0</td>\n",
       "      <td>dropbox</td>\n",
       "    </tr>\n",
       "  </tbody>\n",
       "</table>\n",
       "</div>"
      ],
      "text/plain": [
       "                                                date  \\\n",
       "0  Sat Nov 02 2019 17:40:06 GMT-0700 (Pacific Day...   \n",
       "1  Mon Sep 23 2019 20:40:55 GMT-0700 (Pacific Day...   \n",
       "2  Mon Oct 14 2019 14:08:26 GMT-0700 (Pacific Day...   \n",
       "3  Fri Sep 13 2019 10:19:38 GMT-0700 (Pacific Day...   \n",
       "4  Tue Sep 10 2019 15:34:52 GMT-0700 (Pacific Day...   \n",
       "\n",
       "              employee_title           location    employee_status  \\\n",
       "0          Software Engineer  San Francisco, CA  Current Employee    \n",
       "1          Account Executive         Austin, TX  Current Employee    \n",
       "2                   Research  San Francisco, CA  Current Employee    \n",
       "3                    Manager                NaN   Former Employee    \n",
       "4   Senior Software Engineer  San Francisco, CA  Current Employee    \n",
       "\n",
       "                          review_title  \\\n",
       "0                         Good company   \n",
       "1                  Great place to work   \n",
       "2                     Avoid this place   \n",
       "3                  great place to work   \n",
       "4  Great place to work and be creative   \n",
       "\n",
       "                                    years_at_company  helpful  \\\n",
       "0  I have been working at Dropbox full-time for l...      NaN   \n",
       "1  I have been working at Dropbox full-time for m...      NaN   \n",
       "2  I have been working at Dropbox full-time for l...      7.0   \n",
       "3  I worked at Dropbox full-time for less than a ...      NaN   \n",
       "4  I have been working at Dropbox full-time for l...      NaN   \n",
       "\n",
       "                                                pros  \\\n",
       "0        Good food(the best part), good environment,   \n",
       "1  In-house chefs serving premium breakfast/lunch...   \n",
       "2  1. Food; hands down best food in tech. \\n2. We...   \n",
       "3  everything, culture, benefit, people, work lif...   \n",
       "4  Really appreciates you as an employee. Perks, ...   \n",
       "\n",
       "                                                cons  \\\n",
       "0  Product is not competitive\\nManagement needs s...   \n",
       "1                        no cons specific to Dropbox   \n",
       "2  1. Poor leadership; director+ are indecisive, ...   \n",
       "3           growing company comes with growing pain.   \n",
       "4  Management is young and inexperienced. It show...   \n",
       "\n",
       "                            advice_to_mgmt  rating_overall  rating_balance  \\\n",
       "0                                      NaN             5.0             5.0   \n",
       "1                                      NaN             5.0             5.0   \n",
       "2  Hire more experienced industry leaders.             1.0             1.0   \n",
       "3                                      NaN             5.0             5.0   \n",
       "4                                      NaN             5.0             5.0   \n",
       "\n",
       "   rating_culture  rating_career  rating_comp  rating_mgmt  company  \n",
       "0             5.0            5.0          5.0          5.0  dropbox  \n",
       "1             5.0            5.0          5.0          5.0  dropbox  \n",
       "2             1.0            1.0          2.0          1.0  dropbox  \n",
       "3             5.0            4.0          5.0          5.0  dropbox  \n",
       "4             5.0            4.0          5.0          3.0  dropbox  "
      ]
     },
     "execution_count": 49,
     "metadata": {},
     "output_type": "execute_result"
    }
   ],
   "source": [
    "merge_table.head()"
   ]
  },
  {
   "cell_type": "code",
   "execution_count": 51,
   "metadata": {},
   "outputs": [],
   "source": [
    "merge_table.to_csv(review_fold + \"reviews_merged.csv\")"
   ]
  },
  {
   "cell_type": "code",
   "execution_count": null,
   "metadata": {},
   "outputs": [],
   "source": []
  },
  {
   "cell_type": "markdown",
   "metadata": {},
   "source": [
    "## Merge Salary Tables for full time and Intern"
   ]
  },
  {
   "cell_type": "code",
   "execution_count": 162,
   "metadata": {},
   "outputs": [],
   "source": [
    "salary_fold = \"./Scraper/SalaryScraper/\"\n",
    "tables_fold = salary_fold + \"tables/\"\n",
    "files = os.listdir(tables_fold)\n",
    "files = [f for f in files if \".csv\" in f]"
   ]
  },
  {
   "cell_type": "code",
   "execution_count": 163,
   "metadata": {},
   "outputs": [
    {
     "name": "stdout",
     "output_type": "stream",
     "text": [
      "Total samples in merged table: 7829\n"
     ]
    }
   ],
   "source": [
    "tables = []\n",
    "for f in files:\n",
    "    tab = pd.read_csv(tables_fold + f)\n",
    "    comp = f.split(\"-\")[0].lower()\n",
    "    tab['company'] = [comp] * len(tab)\n",
    "    tables.append(tab)\n",
    "    \n",
    "# merge tables\n",
    "merge_table = pd.concat(tables, ignore_index=True, sort=False)\n",
    "# drop duplicates\n",
    "merge_table = merge_table.drop_duplicates()\n",
    "merge_table = merge_table.reset_index(drop=True)\n",
    "\n",
    "print(\"Total samples in merged table: {}\".format(len(merge_table)))"
   ]
  },
  {
   "cell_type": "code",
   "execution_count": 164,
   "metadata": {},
   "outputs": [],
   "source": [
    "def check_for_full_time(row):\n",
    "    x, y = row['jobTitle'], row['meanPay']\n",
    "    keywords = [\"Hourly\", \"Hour\", \"Intern\", \"/hr\", \"Internship\"]\n",
    "    for k in keywords:\n",
    "        if k in x or k in y:\n",
    "            return False\n",
    "        \n",
    "    return True"
   ]
  },
  {
   "cell_type": "code",
   "execution_count": 165,
   "metadata": {},
   "outputs": [],
   "source": [
    "merge_table['fullTime'] = merge_table.apply(check_for_full_time, axis=1)"
   ]
  },
  {
   "cell_type": "code",
   "execution_count": 166,
   "metadata": {},
   "outputs": [],
   "source": [
    "merge_table_intern = merge_table[~merge_table['fullTime']]\n",
    "merge_table = merge_table[merge_table['fullTime']]\n",
    "\n",
    "merge_table.drop(['fullTime'], axis=1, inplace=True)\n",
    "merge_table_intern.drop(['fullTime'], axis=1, inplace=True)"
   ]
  },
  {
   "cell_type": "code",
   "execution_count": 167,
   "metadata": {},
   "outputs": [
    {
     "name": "stdout",
     "output_type": "stream",
     "text": [
      "Total samples in merged table for full-time: 6346\n",
      "Total samples in merged table for intern: 1483\n"
     ]
    }
   ],
   "source": [
    "print(\"Total samples in merged table for full-time: {}\".format(len(merge_table)))\n",
    "print(\"Total samples in merged table for intern: {}\".format(len(merge_table_intern)))"
   ]
  },
  {
   "cell_type": "code",
   "execution_count": 173,
   "metadata": {},
   "outputs": [],
   "source": [
    "merge_table.to_csv(salary_fold + \"fulltime_merged_salaries_company_table.csv\")"
   ]
  },
  {
   "cell_type": "code",
   "execution_count": 174,
   "metadata": {},
   "outputs": [],
   "source": [
    "merge_table_intern.to_csv(salary_fold + \"intern_merged_salaries_company_table.csv\")"
   ]
  },
  {
   "cell_type": "code",
   "execution_count": null,
   "metadata": {},
   "outputs": [],
   "source": []
  },
  {
   "cell_type": "markdown",
   "metadata": {},
   "source": [
    "## Create category label"
   ]
  },
  {
   "cell_type": "code",
   "execution_count": 175,
   "metadata": {},
   "outputs": [],
   "source": [
    "blah = pd.read_csv('./Scraper/SalaryScraper/intern_merged_salaries_company_table.csv')"
   ]
  },
  {
   "cell_type": "code",
   "execution_count": 176,
   "metadata": {},
   "outputs": [
    {
     "data": {
      "text/plain": [
       "6346"
      ]
     },
     "execution_count": 176,
     "metadata": {},
     "output_type": "execute_result"
    }
   ],
   "source": [
    "len(blah)"
   ]
  },
  {
   "cell_type": "code",
   "execution_count": null,
   "metadata": {},
   "outputs": [],
   "source": []
  }
 ],
 "metadata": {
  "kernelspec": {
   "display_name": "Python 3",
   "language": "python",
   "name": "python3"
  },
  "language_info": {
   "codemirror_mode": {
    "name": "ipython",
    "version": 3
   },
   "file_extension": ".py",
   "mimetype": "text/x-python",
   "name": "python",
   "nbconvert_exporter": "python",
   "pygments_lexer": "ipython3",
   "version": "3.6.5"
  }
 },
 "nbformat": 4,
 "nbformat_minor": 2
}
