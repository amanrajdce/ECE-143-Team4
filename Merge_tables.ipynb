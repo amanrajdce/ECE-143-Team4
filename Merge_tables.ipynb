{
 "cells": [
  {
   "cell_type": "code",
   "execution_count": 16,
   "metadata": {},
   "outputs": [],
   "source": [
    "import pandas as pd\n",
    "import numpy as np\n",
    "import string\n",
    "import matplotlib.pyplot as plt\n",
    "import os"
   ]
  },
  {
   "cell_type": "markdown",
   "metadata": {},
   "source": [
    "## Merge Review Tables"
   ]
  },
  {
   "cell_type": "code",
   "execution_count": 17,
   "metadata": {},
   "outputs": [],
   "source": [
    "review_fold = \"./Scraper/ReviewScraper/\"\n",
    "tables_fold = review_fold + \"tables/\"\n",
    "files = os.listdir(tables_fold)\n",
    "files = [f for f in files if \".csv\" in f]"
   ]
  },
  {
   "cell_type": "code",
   "execution_count": 18,
   "metadata": {},
   "outputs": [],
   "source": [
    "tables = []\n",
    "for f in files:\n",
    "    tab = pd.read_csv(tables_fold + f)\n",
    "    comp = f.split(\"_\")[0].lower()\n",
    "    tab['company'] = [comp] * len(tab)\n",
    "    tables.append(tab)"
   ]
  },
  {
   "cell_type": "code",
   "execution_count": 19,
   "metadata": {},
   "outputs": [],
   "source": [
    "# merge tables\n",
    "merge_table = pd.concat(tables, ignore_index=True, sort=False)\n",
    "# drop duplicates\n",
    "merge_table = merge_table.drop_duplicates()\n",
    "merge_table = merge_table.reset_index(drop=True)"
   ]
  },
  {
   "cell_type": "code",
   "execution_count": 20,
   "metadata": {},
   "outputs": [
    {
     "name": "stdout",
     "output_type": "stream",
     "text": [
      "Total samples in merged table: 6066\n"
     ]
    }
   ],
   "source": [
    "print(\"Total samples in merged table: {}\".format(len(merge_table)))"
   ]
  },
  {
   "cell_type": "code",
   "execution_count": 21,
   "metadata": {},
   "outputs": [
    {
     "data": {
      "text/html": [
       "<div>\n",
       "<style scoped>\n",
       "    .dataframe tbody tr th:only-of-type {\n",
       "        vertical-align: middle;\n",
       "    }\n",
       "\n",
       "    .dataframe tbody tr th {\n",
       "        vertical-align: top;\n",
       "    }\n",
       "\n",
       "    .dataframe thead th {\n",
       "        text-align: right;\n",
       "    }\n",
       "</style>\n",
       "<table border=\"1\" class=\"dataframe\">\n",
       "  <thead>\n",
       "    <tr style=\"text-align: right;\">\n",
       "      <th></th>\n",
       "      <th>date</th>\n",
       "      <th>employee_title</th>\n",
       "      <th>location</th>\n",
       "      <th>employee_status</th>\n",
       "      <th>review_title</th>\n",
       "      <th>years_at_company</th>\n",
       "      <th>helpful</th>\n",
       "      <th>pros</th>\n",
       "      <th>cons</th>\n",
       "      <th>advice_to_mgmt</th>\n",
       "      <th>rating_overall</th>\n",
       "      <th>rating_balance</th>\n",
       "      <th>rating_culture</th>\n",
       "      <th>rating_career</th>\n",
       "      <th>rating_comp</th>\n",
       "      <th>rating_mgmt</th>\n",
       "      <th>company</th>\n",
       "    </tr>\n",
       "  </thead>\n",
       "  <tbody>\n",
       "    <tr>\n",
       "      <th>0</th>\n",
       "      <td>Sat Nov 02 2019 17:40:06 GMT-0700 (Pacific Day...</td>\n",
       "      <td>Software Engineer</td>\n",
       "      <td>San Francisco, CA</td>\n",
       "      <td>Current Employee</td>\n",
       "      <td>Good company</td>\n",
       "      <td>I have been working at Dropbox full-time for l...</td>\n",
       "      <td>NaN</td>\n",
       "      <td>Good food(the best part), good environment,</td>\n",
       "      <td>Product is not competitive\\nManagement needs s...</td>\n",
       "      <td>NaN</td>\n",
       "      <td>5.0</td>\n",
       "      <td>5.0</td>\n",
       "      <td>5.0</td>\n",
       "      <td>5.0</td>\n",
       "      <td>5.0</td>\n",
       "      <td>5.0</td>\n",
       "      <td>dropbox</td>\n",
       "    </tr>\n",
       "    <tr>\n",
       "      <th>1</th>\n",
       "      <td>Mon Sep 23 2019 20:40:55 GMT-0700 (Pacific Day...</td>\n",
       "      <td>Account Executive</td>\n",
       "      <td>Austin, TX</td>\n",
       "      <td>Current Employee</td>\n",
       "      <td>Great place to work</td>\n",
       "      <td>I have been working at Dropbox full-time for m...</td>\n",
       "      <td>NaN</td>\n",
       "      <td>In-house chefs serving premium breakfast/lunch...</td>\n",
       "      <td>no cons specific to Dropbox</td>\n",
       "      <td>NaN</td>\n",
       "      <td>5.0</td>\n",
       "      <td>5.0</td>\n",
       "      <td>5.0</td>\n",
       "      <td>5.0</td>\n",
       "      <td>5.0</td>\n",
       "      <td>5.0</td>\n",
       "      <td>dropbox</td>\n",
       "    </tr>\n",
       "    <tr>\n",
       "      <th>2</th>\n",
       "      <td>Mon Oct 14 2019 14:08:26 GMT-0700 (Pacific Day...</td>\n",
       "      <td>Research</td>\n",
       "      <td>San Francisco, CA</td>\n",
       "      <td>Current Employee</td>\n",
       "      <td>Avoid this place</td>\n",
       "      <td>I have been working at Dropbox full-time for l...</td>\n",
       "      <td>7.0</td>\n",
       "      <td>1. Food; hands down best food in tech. \\n2. We...</td>\n",
       "      <td>1. Poor leadership; director+ are indecisive, ...</td>\n",
       "      <td>Hire more experienced industry leaders.</td>\n",
       "      <td>1.0</td>\n",
       "      <td>1.0</td>\n",
       "      <td>1.0</td>\n",
       "      <td>1.0</td>\n",
       "      <td>2.0</td>\n",
       "      <td>1.0</td>\n",
       "      <td>dropbox</td>\n",
       "    </tr>\n",
       "    <tr>\n",
       "      <th>3</th>\n",
       "      <td>Fri Sep 13 2019 10:19:38 GMT-0700 (Pacific Day...</td>\n",
       "      <td>Manager</td>\n",
       "      <td>NaN</td>\n",
       "      <td>Former Employee</td>\n",
       "      <td>great place to work</td>\n",
       "      <td>I worked at Dropbox full-time for less than a ...</td>\n",
       "      <td>NaN</td>\n",
       "      <td>everything, culture, benefit, people, work lif...</td>\n",
       "      <td>growing company comes with growing pain.</td>\n",
       "      <td>NaN</td>\n",
       "      <td>5.0</td>\n",
       "      <td>5.0</td>\n",
       "      <td>5.0</td>\n",
       "      <td>4.0</td>\n",
       "      <td>5.0</td>\n",
       "      <td>5.0</td>\n",
       "      <td>dropbox</td>\n",
       "    </tr>\n",
       "    <tr>\n",
       "      <th>4</th>\n",
       "      <td>Tue Sep 10 2019 15:34:52 GMT-0700 (Pacific Day...</td>\n",
       "      <td>Senior Software Engineer</td>\n",
       "      <td>San Francisco, CA</td>\n",
       "      <td>Current Employee</td>\n",
       "      <td>Great place to work and be creative</td>\n",
       "      <td>I have been working at Dropbox full-time for l...</td>\n",
       "      <td>NaN</td>\n",
       "      <td>Really appreciates you as an employee. Perks, ...</td>\n",
       "      <td>Management is young and inexperienced. It show...</td>\n",
       "      <td>NaN</td>\n",
       "      <td>5.0</td>\n",
       "      <td>5.0</td>\n",
       "      <td>5.0</td>\n",
       "      <td>4.0</td>\n",
       "      <td>5.0</td>\n",
       "      <td>3.0</td>\n",
       "      <td>dropbox</td>\n",
       "    </tr>\n",
       "  </tbody>\n",
       "</table>\n",
       "</div>"
      ],
      "text/plain": [
       "                                                date  \\\n",
       "0  Sat Nov 02 2019 17:40:06 GMT-0700 (Pacific Day...   \n",
       "1  Mon Sep 23 2019 20:40:55 GMT-0700 (Pacific Day...   \n",
       "2  Mon Oct 14 2019 14:08:26 GMT-0700 (Pacific Day...   \n",
       "3  Fri Sep 13 2019 10:19:38 GMT-0700 (Pacific Day...   \n",
       "4  Tue Sep 10 2019 15:34:52 GMT-0700 (Pacific Day...   \n",
       "\n",
       "              employee_title           location    employee_status  \\\n",
       "0          Software Engineer  San Francisco, CA  Current Employee    \n",
       "1          Account Executive         Austin, TX  Current Employee    \n",
       "2                   Research  San Francisco, CA  Current Employee    \n",
       "3                    Manager                NaN   Former Employee    \n",
       "4   Senior Software Engineer  San Francisco, CA  Current Employee    \n",
       "\n",
       "                          review_title  \\\n",
       "0                         Good company   \n",
       "1                  Great place to work   \n",
       "2                     Avoid this place   \n",
       "3                  great place to work   \n",
       "4  Great place to work and be creative   \n",
       "\n",
       "                                    years_at_company  helpful  \\\n",
       "0  I have been working at Dropbox full-time for l...      NaN   \n",
       "1  I have been working at Dropbox full-time for m...      NaN   \n",
       "2  I have been working at Dropbox full-time for l...      7.0   \n",
       "3  I worked at Dropbox full-time for less than a ...      NaN   \n",
       "4  I have been working at Dropbox full-time for l...      NaN   \n",
       "\n",
       "                                                pros  \\\n",
       "0        Good food(the best part), good environment,   \n",
       "1  In-house chefs serving premium breakfast/lunch...   \n",
       "2  1. Food; hands down best food in tech. \\n2. We...   \n",
       "3  everything, culture, benefit, people, work lif...   \n",
       "4  Really appreciates you as an employee. Perks, ...   \n",
       "\n",
       "                                                cons  \\\n",
       "0  Product is not competitive\\nManagement needs s...   \n",
       "1                        no cons specific to Dropbox   \n",
       "2  1. Poor leadership; director+ are indecisive, ...   \n",
       "3           growing company comes with growing pain.   \n",
       "4  Management is young and inexperienced. It show...   \n",
       "\n",
       "                            advice_to_mgmt  rating_overall  rating_balance  \\\n",
       "0                                      NaN             5.0             5.0   \n",
       "1                                      NaN             5.0             5.0   \n",
       "2  Hire more experienced industry leaders.             1.0             1.0   \n",
       "3                                      NaN             5.0             5.0   \n",
       "4                                      NaN             5.0             5.0   \n",
       "\n",
       "   rating_culture  rating_career  rating_comp  rating_mgmt  company  \n",
       "0             5.0            5.0          5.0          5.0  dropbox  \n",
       "1             5.0            5.0          5.0          5.0  dropbox  \n",
       "2             1.0            1.0          2.0          1.0  dropbox  \n",
       "3             5.0            4.0          5.0          5.0  dropbox  \n",
       "4             5.0            4.0          5.0          3.0  dropbox  "
      ]
     },
     "execution_count": 21,
     "metadata": {},
     "output_type": "execute_result"
    }
   ],
   "source": [
    "merge_table.head()"
   ]
  },
  {
   "cell_type": "code",
   "execution_count": 22,
   "metadata": {},
   "outputs": [],
   "source": [
    "merge_table.to_csv(review_fold + \"merged_reviews_table.csv\", index=False)"
   ]
  },
  {
   "cell_type": "code",
   "execution_count": null,
   "metadata": {},
   "outputs": [],
   "source": []
  },
  {
   "cell_type": "markdown",
   "metadata": {},
   "source": [
    "## Merge Salary Tables for full time and Intern"
   ]
  },
  {
   "cell_type": "code",
   "execution_count": 23,
   "metadata": {},
   "outputs": [],
   "source": [
    "salary_fold = \"./Scraper/SalaryScraper/\"\n",
    "tables_fold = salary_fold + \"tables/\"\n",
    "files = os.listdir(tables_fold)\n",
    "files = [f for f in files if \".csv\" in f]"
   ]
  },
  {
   "cell_type": "code",
   "execution_count": 24,
   "metadata": {},
   "outputs": [
    {
     "name": "stdout",
     "output_type": "stream",
     "text": [
      "Total samples in merged table: 7805\n"
     ]
    }
   ],
   "source": [
    "tables = []\n",
    "for f in files:\n",
    "    tab = pd.read_csv(tables_fold + f)\n",
    "    comp = f.split(\"-\")[0].lower()\n",
    "    tab['company'] = [comp] * len(tab)\n",
    "    tables.append(tab)\n",
    "    \n",
    "# merge tables\n",
    "merge_table = pd.concat(tables, ignore_index=True, sort=False)\n",
    "# drop duplicates\n",
    "merge_table = merge_table.drop_duplicates()\n",
    "# remove errors due to scraping\n",
    "merge_table = merge_table[merge_table[\"jobTitle\"] != \"California\"]\n",
    "merge_table = merge_table[merge_table[\"jobTitle\"] != \"CA\"]\n",
    "merge_table = merge_table.reset_index(drop=True)\n",
    "\n",
    "merge_table.rename(columns={\"jobTitle\": \"job_title\", \"meanPay\": \"mean_pay\", \"Range\": \"salary_range\"}, inplace=True)\n",
    "\n",
    "print(\"Total samples in merged table: {}\".format(len(merge_table)))"
   ]
  },
  {
   "cell_type": "code",
   "execution_count": 25,
   "metadata": {},
   "outputs": [
    {
     "data": {
      "text/html": [
       "<div>\n",
       "<style scoped>\n",
       "    .dataframe tbody tr th:only-of-type {\n",
       "        vertical-align: middle;\n",
       "    }\n",
       "\n",
       "    .dataframe tbody tr th {\n",
       "        vertical-align: top;\n",
       "    }\n",
       "\n",
       "    .dataframe thead th {\n",
       "        text-align: right;\n",
       "    }\n",
       "</style>\n",
       "<table border=\"1\" class=\"dataframe\">\n",
       "  <thead>\n",
       "    <tr style=\"text-align: right;\">\n",
       "      <th></th>\n",
       "      <th>job_title</th>\n",
       "      <th>mean_pay</th>\n",
       "      <th>salary_range</th>\n",
       "      <th>company</th>\n",
       "    </tr>\n",
       "  </thead>\n",
       "  <tbody>\n",
       "    <tr>\n",
       "      <th>0</th>\n",
       "      <td>Software Engineer</td>\n",
       "      <td>$114,610/yr</td>\n",
       "      <td>Range: $70K - $166K</td>\n",
       "      <td>cisco</td>\n",
       "    </tr>\n",
       "    <tr>\n",
       "      <th>1</th>\n",
       "      <td>Software Engineer IV</td>\n",
       "      <td>$133,178/yr</td>\n",
       "      <td>Range: $99K - $169K</td>\n",
       "      <td>cisco</td>\n",
       "    </tr>\n",
       "    <tr>\n",
       "      <th>2</th>\n",
       "      <td>Software Engineer III</td>\n",
       "      <td>$113,381/yr</td>\n",
       "      <td>Range: $79K - $162K</td>\n",
       "      <td>cisco</td>\n",
       "    </tr>\n",
       "    <tr>\n",
       "      <th>3</th>\n",
       "      <td>Network Consulting Engineer</td>\n",
       "      <td>$115,899/yr</td>\n",
       "      <td>Range: $50K - $259K</td>\n",
       "      <td>cisco</td>\n",
       "    </tr>\n",
       "    <tr>\n",
       "      <th>4</th>\n",
       "      <td>Senior Software Engineer</td>\n",
       "      <td>$134,594/yr</td>\n",
       "      <td>Range: $87K - $190K</td>\n",
       "      <td>cisco</td>\n",
       "    </tr>\n",
       "  </tbody>\n",
       "</table>\n",
       "</div>"
      ],
      "text/plain": [
       "                     job_title     mean_pay         salary_range company\n",
       "0            Software Engineer  $114,610/yr  Range: $70K - $166K   cisco\n",
       "1         Software Engineer IV  $133,178/yr  Range: $99K - $169K   cisco\n",
       "2        Software Engineer III  $113,381/yr  Range: $79K - $162K   cisco\n",
       "3  Network Consulting Engineer  $115,899/yr  Range: $50K - $259K   cisco\n",
       "4     Senior Software Engineer  $134,594/yr  Range: $87K - $190K   cisco"
      ]
     },
     "execution_count": 25,
     "metadata": {},
     "output_type": "execute_result"
    }
   ],
   "source": [
    "merge_table.head()"
   ]
  },
  {
   "cell_type": "code",
   "execution_count": 26,
   "metadata": {},
   "outputs": [],
   "source": [
    "def check_for_full_time(row):\n",
    "    x, y = row['job_title'], row['mean_pay']\n",
    "    keywords = [\"Hourly\", \"Hour\", \"Intern\", \"/hr\", \"Internship\"]\n",
    "    for k in keywords:\n",
    "        if k in x or k in y:\n",
    "            return False\n",
    "        \n",
    "    return True"
   ]
  },
  {
   "cell_type": "code",
   "execution_count": 27,
   "metadata": {},
   "outputs": [],
   "source": [
    "merge_table['full_time'] = merge_table.apply(check_for_full_time, axis=1)\n",
    "merge_table_intern = merge_table[~merge_table['full_time']]\n",
    "merge_table = merge_table[merge_table['full_time']]\n",
    "\n",
    "merge_table = merge_table.reset_index(drop=True)\n",
    "merge_table_intern = merge_table_intern.reset_index(drop=True)"
   ]
  },
  {
   "cell_type": "code",
   "execution_count": 28,
   "metadata": {},
   "outputs": [],
   "source": [
    "merge_table.drop(['full_time'], axis=1, inplace=True)\n",
    "merge_table_intern.drop(['full_time'], axis=1, inplace=True)"
   ]
  },
  {
   "cell_type": "code",
   "execution_count": 29,
   "metadata": {},
   "outputs": [
    {
     "name": "stdout",
     "output_type": "stream",
     "text": [
      "Total samples in merged table for full-time: 6322\n",
      "Total samples in merged table for intern: 1483\n"
     ]
    }
   ],
   "source": [
    "print(\"Total samples in merged table for full-time: {}\".format(len(merge_table)))\n",
    "print(\"Total samples in merged table for intern: {}\".format(len(merge_table_intern)))"
   ]
  },
  {
   "cell_type": "code",
   "execution_count": 30,
   "metadata": {},
   "outputs": [],
   "source": [
    "merge_table.to_csv(salary_fold + \"fulltime_merged_salaries_company_table.csv\", index=False)"
   ]
  },
  {
   "cell_type": "code",
   "execution_count": 31,
   "metadata": {},
   "outputs": [],
   "source": [
    "merge_table_intern.to_csv(salary_fold + \"intern_merged_salaries_company_table.csv\", index=False)"
   ]
  },
  {
   "cell_type": "code",
   "execution_count": null,
   "metadata": {},
   "outputs": [],
   "source": []
  },
  {
   "cell_type": "markdown",
   "metadata": {},
   "source": [
    "## Create category label"
   ]
  },
  {
   "cell_type": "code",
   "execution_count": 32,
   "metadata": {},
   "outputs": [
    {
     "data": {
      "text/html": [
       "<div>\n",
       "<style scoped>\n",
       "    .dataframe tbody tr th:only-of-type {\n",
       "        vertical-align: middle;\n",
       "    }\n",
       "\n",
       "    .dataframe tbody tr th {\n",
       "        vertical-align: top;\n",
       "    }\n",
       "\n",
       "    .dataframe thead th {\n",
       "        text-align: right;\n",
       "    }\n",
       "</style>\n",
       "<table border=\"1\" class=\"dataframe\">\n",
       "  <thead>\n",
       "    <tr style=\"text-align: right;\">\n",
       "      <th></th>\n",
       "      <th>job_title</th>\n",
       "      <th>mean_pay</th>\n",
       "      <th>salary_range</th>\n",
       "      <th>company</th>\n",
       "    </tr>\n",
       "  </thead>\n",
       "  <tbody>\n",
       "    <tr>\n",
       "      <th>0</th>\n",
       "      <td>Software Engineer</td>\n",
       "      <td>$114,610/yr</td>\n",
       "      <td>Range: $70K - $166K</td>\n",
       "      <td>cisco</td>\n",
       "    </tr>\n",
       "    <tr>\n",
       "      <th>1</th>\n",
       "      <td>Software Engineer IV</td>\n",
       "      <td>$133,178/yr</td>\n",
       "      <td>Range: $99K - $169K</td>\n",
       "      <td>cisco</td>\n",
       "    </tr>\n",
       "    <tr>\n",
       "      <th>2</th>\n",
       "      <td>Software Engineer III</td>\n",
       "      <td>$113,381/yr</td>\n",
       "      <td>Range: $79K - $162K</td>\n",
       "      <td>cisco</td>\n",
       "    </tr>\n",
       "    <tr>\n",
       "      <th>3</th>\n",
       "      <td>Network Consulting Engineer</td>\n",
       "      <td>$115,899/yr</td>\n",
       "      <td>Range: $50K - $259K</td>\n",
       "      <td>cisco</td>\n",
       "    </tr>\n",
       "    <tr>\n",
       "      <th>4</th>\n",
       "      <td>Senior Software Engineer</td>\n",
       "      <td>$134,594/yr</td>\n",
       "      <td>Range: $87K - $190K</td>\n",
       "      <td>cisco</td>\n",
       "    </tr>\n",
       "  </tbody>\n",
       "</table>\n",
       "</div>"
      ],
      "text/plain": [
       "                     job_title     mean_pay         salary_range company\n",
       "0            Software Engineer  $114,610/yr  Range: $70K - $166K   cisco\n",
       "1         Software Engineer IV  $133,178/yr  Range: $99K - $169K   cisco\n",
       "2        Software Engineer III  $113,381/yr  Range: $79K - $162K   cisco\n",
       "3  Network Consulting Engineer  $115,899/yr  Range: $50K - $259K   cisco\n",
       "4     Senior Software Engineer  $134,594/yr  Range: $87K - $190K   cisco"
      ]
     },
     "execution_count": 32,
     "metadata": {},
     "output_type": "execute_result"
    }
   ],
   "source": [
    "merge_table.head()"
   ]
  },
  {
   "cell_type": "code",
   "execution_count": 33,
   "metadata": {},
   "outputs": [],
   "source": [
    "def generate_category_for_fulltime(y):\n",
    "    y = y.lower()\n",
    "    x = y.split(\" \")\n",
    "    sales = [\"sales\"]\n",
    "    marketing = [\"marketing\", \"market\"]\n",
    "    it = [\"it\"]\n",
    "    enginer = [\"software\", \"engineer\", \"engineering\", \"ui\", \"scientist\", \"developer\", \"sde1\", \"sde2\"]\n",
    "    manager = [\"manager\"]\n",
    "\n",
    "    if any(keyw in x for keyw in sales): # 686\n",
    "        return \"sales\"\n",
    "    if any(keyw in x for keyw in marketing): # 289\n",
    "        return \"marketing\"\n",
    "    if any(keyw in x for keyw in it): # 136\n",
    "        return \"it\"\n",
    "    if any(keyw in x for keyw in enginer) or \"member of technical staff\" in y:\n",
    "        return \"engineering\"\n",
    "    if any(keyw in x for keyw in manager):\n",
    "        return \"managerial\"\n",
    "    \n",
    "    return \"others\""
   ]
  },
  {
   "cell_type": "code",
   "execution_count": 34,
   "metadata": {},
   "outputs": [],
   "source": [
    "merge_table['category'] = merge_table['job_title'].apply(generate_category_for_fulltime)"
   ]
  },
  {
   "cell_type": "code",
   "execution_count": 35,
   "metadata": {},
   "outputs": [
    {
     "data": {
      "text/html": [
       "<div>\n",
       "<style scoped>\n",
       "    .dataframe tbody tr th:only-of-type {\n",
       "        vertical-align: middle;\n",
       "    }\n",
       "\n",
       "    .dataframe tbody tr th {\n",
       "        vertical-align: top;\n",
       "    }\n",
       "\n",
       "    .dataframe thead th {\n",
       "        text-align: right;\n",
       "    }\n",
       "</style>\n",
       "<table border=\"1\" class=\"dataframe\">\n",
       "  <thead>\n",
       "    <tr style=\"text-align: right;\">\n",
       "      <th></th>\n",
       "      <th>job_title</th>\n",
       "      <th>mean_pay</th>\n",
       "      <th>salary_range</th>\n",
       "      <th>company</th>\n",
       "      <th>category</th>\n",
       "    </tr>\n",
       "  </thead>\n",
       "  <tbody>\n",
       "    <tr>\n",
       "      <th>0</th>\n",
       "      <td>Software Engineer</td>\n",
       "      <td>$114,610/yr</td>\n",
       "      <td>Range: $70K - $166K</td>\n",
       "      <td>cisco</td>\n",
       "      <td>engineering</td>\n",
       "    </tr>\n",
       "    <tr>\n",
       "      <th>1</th>\n",
       "      <td>Software Engineer IV</td>\n",
       "      <td>$133,178/yr</td>\n",
       "      <td>Range: $99K - $169K</td>\n",
       "      <td>cisco</td>\n",
       "      <td>engineering</td>\n",
       "    </tr>\n",
       "    <tr>\n",
       "      <th>2</th>\n",
       "      <td>Software Engineer III</td>\n",
       "      <td>$113,381/yr</td>\n",
       "      <td>Range: $79K - $162K</td>\n",
       "      <td>cisco</td>\n",
       "      <td>engineering</td>\n",
       "    </tr>\n",
       "    <tr>\n",
       "      <th>3</th>\n",
       "      <td>Network Consulting Engineer</td>\n",
       "      <td>$115,899/yr</td>\n",
       "      <td>Range: $50K - $259K</td>\n",
       "      <td>cisco</td>\n",
       "      <td>engineering</td>\n",
       "    </tr>\n",
       "    <tr>\n",
       "      <th>4</th>\n",
       "      <td>Senior Software Engineer</td>\n",
       "      <td>$134,594/yr</td>\n",
       "      <td>Range: $87K - $190K</td>\n",
       "      <td>cisco</td>\n",
       "      <td>engineering</td>\n",
       "    </tr>\n",
       "  </tbody>\n",
       "</table>\n",
       "</div>"
      ],
      "text/plain": [
       "                     job_title     mean_pay         salary_range company  \\\n",
       "0            Software Engineer  $114,610/yr  Range: $70K - $166K   cisco   \n",
       "1         Software Engineer IV  $133,178/yr  Range: $99K - $169K   cisco   \n",
       "2        Software Engineer III  $113,381/yr  Range: $79K - $162K   cisco   \n",
       "3  Network Consulting Engineer  $115,899/yr  Range: $50K - $259K   cisco   \n",
       "4     Senior Software Engineer  $134,594/yr  Range: $87K - $190K   cisco   \n",
       "\n",
       "      category  \n",
       "0  engineering  \n",
       "1  engineering  \n",
       "2  engineering  \n",
       "3  engineering  \n",
       "4  engineering  "
      ]
     },
     "execution_count": 35,
     "metadata": {},
     "output_type": "execute_result"
    }
   ],
   "source": [
    "merge_table.head()"
   ]
  },
  {
   "cell_type": "code",
   "execution_count": 36,
   "metadata": {},
   "outputs": [],
   "source": [
    "merge_table.to_csv(salary_fold + \"fulltime_merged_salaries_company_table.csv\", index=False)"
   ]
  },
  {
   "cell_type": "code",
   "execution_count": null,
   "metadata": {},
   "outputs": [],
   "source": []
  },
  {
   "cell_type": "code",
   "execution_count": 37,
   "metadata": {},
   "outputs": [],
   "source": [
    "def generate_category_for_intern(y):\n",
    "    y = y.lower()\n",
    "    x = y.split(\" \")\n",
    "    sales = [\"sales\"]\n",
    "    marketing = [\"marketing\", \"market\"]\n",
    "    it = [\"it\"]\n",
    "    enginer = [\"software\", \"engineer\", \"engineering\", \"ui\", \"scientist\", \"developer\", \"sde1\", \"sde2\"]\n",
    "    manager = [\"manager\"]\n",
    "\n",
    "    if any(keyw in x for keyw in sales): # 686\n",
    "        return \"sales\"\n",
    "    if any(keyw in x for keyw in marketing): # 289\n",
    "        return \"marketing\"\n",
    "    if any(keyw in x for keyw in it): # 136\n",
    "        return \"it\"\n",
    "    if any(keyw in x for keyw in enginer) or \"member of technical staff\" in y:\n",
    "        return \"engineering\"\n",
    "    if any(keyw in x for keyw in manager):\n",
    "        return \"managerial\"\n",
    "    \n",
    "    return \"others\""
   ]
  },
  {
   "cell_type": "code",
   "execution_count": 38,
   "metadata": {},
   "outputs": [],
   "source": [
    "merge_table_intern[\"category\"] = merge_table_intern[\"job_title\"].apply(generate_category_for_fulltime)"
   ]
  },
  {
   "cell_type": "code",
   "execution_count": 39,
   "metadata": {},
   "outputs": [
    {
     "data": {
      "text/html": [
       "<div>\n",
       "<style scoped>\n",
       "    .dataframe tbody tr th:only-of-type {\n",
       "        vertical-align: middle;\n",
       "    }\n",
       "\n",
       "    .dataframe tbody tr th {\n",
       "        vertical-align: top;\n",
       "    }\n",
       "\n",
       "    .dataframe thead th {\n",
       "        text-align: right;\n",
       "    }\n",
       "</style>\n",
       "<table border=\"1\" class=\"dataframe\">\n",
       "  <thead>\n",
       "    <tr style=\"text-align: right;\">\n",
       "      <th></th>\n",
       "      <th>job_title</th>\n",
       "      <th>mean_pay</th>\n",
       "      <th>salary_range</th>\n",
       "      <th>company</th>\n",
       "      <th>category</th>\n",
       "    </tr>\n",
       "  </thead>\n",
       "  <tbody>\n",
       "    <tr>\n",
       "      <th>0</th>\n",
       "      <td>Software Engineer - Hourly Intern</td>\n",
       "      <td>$28/hr</td>\n",
       "      <td>Range: $13 - $42</td>\n",
       "      <td>cisco</td>\n",
       "      <td>engineering</td>\n",
       "    </tr>\n",
       "    <tr>\n",
       "      <th>1</th>\n",
       "      <td>Software Engineer() - Hourly Intern</td>\n",
       "      <td>$29/hr</td>\n",
       "      <td>Range: $21 - $43</td>\n",
       "      <td>cisco</td>\n",
       "      <td>engineering</td>\n",
       "    </tr>\n",
       "    <tr>\n",
       "      <th>2</th>\n",
       "      <td>Intern - Hourly</td>\n",
       "      <td>$26/hr</td>\n",
       "      <td>Range: $13 - $45</td>\n",
       "      <td>cisco</td>\n",
       "      <td>others</td>\n",
       "    </tr>\n",
       "    <tr>\n",
       "      <th>3</th>\n",
       "      <td>Intern - Hourly</td>\n",
       "      <td>$24/hr</td>\n",
       "      <td>Range: $11 - $43</td>\n",
       "      <td>cisco</td>\n",
       "      <td>others</td>\n",
       "    </tr>\n",
       "    <tr>\n",
       "      <th>4</th>\n",
       "      <td>IT Engineer - Hourly Intern</td>\n",
       "      <td>$27/hr</td>\n",
       "      <td>Range: $24 - $30</td>\n",
       "      <td>cisco</td>\n",
       "      <td>it</td>\n",
       "    </tr>\n",
       "  </tbody>\n",
       "</table>\n",
       "</div>"
      ],
      "text/plain": [
       "                             job_title mean_pay      salary_range company  \\\n",
       "0    Software Engineer - Hourly Intern   $28/hr  Range: $13 - $42   cisco   \n",
       "1  Software Engineer() - Hourly Intern   $29/hr  Range: $21 - $43   cisco   \n",
       "2                      Intern - Hourly   $26/hr  Range: $13 - $45   cisco   \n",
       "3                      Intern - Hourly   $24/hr  Range: $11 - $43   cisco   \n",
       "4          IT Engineer - Hourly Intern   $27/hr  Range: $24 - $30   cisco   \n",
       "\n",
       "      category  \n",
       "0  engineering  \n",
       "1  engineering  \n",
       "2       others  \n",
       "3       others  \n",
       "4           it  "
      ]
     },
     "execution_count": 39,
     "metadata": {},
     "output_type": "execute_result"
    }
   ],
   "source": [
    "merge_table_intern.head()"
   ]
  },
  {
   "cell_type": "code",
   "execution_count": 40,
   "metadata": {},
   "outputs": [],
   "source": [
    "merge_table_intern.to_csv(salary_fold + \"intern_merged_salaries_company_table.csv\", index=False)"
   ]
  },
  {
   "cell_type": "code",
   "execution_count": null,
   "metadata": {},
   "outputs": [],
   "source": []
  }
 ],
 "metadata": {
  "kernelspec": {
   "display_name": "Python 3",
   "language": "python",
   "name": "python3"
  },
  "language_info": {
   "codemirror_mode": {
    "name": "ipython",
    "version": 3
   },
   "file_extension": ".py",
   "mimetype": "text/x-python",
   "name": "python",
   "nbconvert_exporter": "python",
   "pygments_lexer": "ipython3",
   "version": "3.6.5"
  }
 },
 "nbformat": 4,
 "nbformat_minor": 2
}
