{
 "cells": [
  {
   "cell_type": "markdown",
   "metadata": {},
   "source": [
    "NOTE: This part of analysis is being done by Aman, it is still a work in progress. Muwei is doing other parts of analysis. Feel free to give us your inputs any changes, suggestions etc."
   ]
  },
  {
   "cell_type": "code",
   "execution_count": 1,
   "metadata": {},
   "outputs": [],
   "source": [
    "import pandas as pd\n",
    "import numpy as np\n",
    "import string\n",
    "import matplotlib.pyplot as plt"
   ]
  },
  {
   "cell_type": "code",
   "execution_count": 2,
   "metadata": {},
   "outputs": [],
   "source": [
    "eng_jobs = pd.read_csv('./Scraper/engineering-jobs-job-results.csv')\n",
    "finance_jobs = pd.read_csv('./Scraper/finance-jobs-job-results.csv')\n",
    "it_jobs = pd.read_csv('./Scraper/it-jobs-job-results.csv')\n",
    "market_jobs = pd.read_csv('./Scraper/marketing-jobs-job-results.csv')\n",
    "jobs_category = [eng_jobs, finance_jobs, it_jobs, market_jobs]"
   ]
  },
  {
   "cell_type": "code",
   "execution_count": 3,
   "metadata": {},
   "outputs": [
    {
     "data": {
      "text/html": [
       "<div>\n",
       "<style scoped>\n",
       "    .dataframe tbody tr th:only-of-type {\n",
       "        vertical-align: middle;\n",
       "    }\n",
       "\n",
       "    .dataframe tbody tr th {\n",
       "        vertical-align: top;\n",
       "    }\n",
       "\n",
       "    .dataframe thead th {\n",
       "        text-align: right;\n",
       "    }\n",
       "</style>\n",
       "<table border=\"1\" class=\"dataframe\">\n",
       "  <thead>\n",
       "    <tr style=\"text-align: right;\">\n",
       "      <th></th>\n",
       "      <th>Name</th>\n",
       "      <th>Company</th>\n",
       "      <th>State</th>\n",
       "      <th>City</th>\n",
       "      <th>Salary</th>\n",
       "      <th>Location</th>\n",
       "      <th>Url</th>\n",
       "    </tr>\n",
       "  </thead>\n",
       "  <tbody>\n",
       "    <tr>\n",
       "      <th>0</th>\n",
       "      <td>Product Engineer I</td>\n",
       "      <td>AeroVironment</td>\n",
       "      <td>CA</td>\n",
       "      <td>Simi Valley</td>\n",
       "      <td>$69k-$95k</td>\n",
       "      <td>Simi Valley, CA</td>\n",
       "      <td>https://www.glassdoor.com/partner/jobListing.h...</td>\n",
       "    </tr>\n",
       "    <tr>\n",
       "      <th>1</th>\n",
       "      <td>Software Engineer - University Graduate</td>\n",
       "      <td>PayPal</td>\n",
       "      <td>CA</td>\n",
       "      <td>San Jose</td>\n",
       "      <td>$109k-$156k</td>\n",
       "      <td>San Jose, CA</td>\n",
       "      <td>https://www.glassdoor.com/partner/jobListing.h...</td>\n",
       "    </tr>\n",
       "    <tr>\n",
       "      <th>2</th>\n",
       "      <td>Project Engineer</td>\n",
       "      <td>LangCo NW, Inc.</td>\n",
       "      <td>WA</td>\n",
       "      <td>Oak Harbor</td>\n",
       "      <td>NaN</td>\n",
       "      <td>Oak Harbor, WA</td>\n",
       "      <td>https://www.glassdoor.com/partner/jobListing.h...</td>\n",
       "    </tr>\n",
       "    <tr>\n",
       "      <th>3</th>\n",
       "      <td>Head of Engineering</td>\n",
       "      <td>Jovio</td>\n",
       "      <td>TX</td>\n",
       "      <td>Austin</td>\n",
       "      <td>$120k-$150k</td>\n",
       "      <td>Austin, TX</td>\n",
       "      <td>https://www.glassdoor.com/partner/jobListing.h...</td>\n",
       "    </tr>\n",
       "    <tr>\n",
       "      <th>4</th>\n",
       "      <td>Senior Hardware Engineer</td>\n",
       "      <td>Scale Computing</td>\n",
       "      <td>IN</td>\n",
       "      <td>Indianapolis</td>\n",
       "      <td>NaN</td>\n",
       "      <td>Indianapolis, IN</td>\n",
       "      <td>https://www.glassdoor.com/partner/jobListing.h...</td>\n",
       "    </tr>\n",
       "  </tbody>\n",
       "</table>\n",
       "</div>"
      ],
      "text/plain": [
       "                                      Name          Company State  \\\n",
       "0                       Product Engineer I    AeroVironment    CA   \n",
       "1  Software Engineer - University Graduate           PayPal    CA   \n",
       "2                         Project Engineer  LangCo NW, Inc.    WA   \n",
       "3                      Head of Engineering            Jovio    TX   \n",
       "4                 Senior Hardware Engineer  Scale Computing    IN   \n",
       "\n",
       "           City       Salary          Location  \\\n",
       "0   Simi Valley    $69k-$95k   Simi Valley, CA   \n",
       "1      San Jose  $109k-$156k      San Jose, CA   \n",
       "2    Oak Harbor          NaN    Oak Harbor, WA   \n",
       "3        Austin  $120k-$150k        Austin, TX   \n",
       "4  Indianapolis          NaN  Indianapolis, IN   \n",
       "\n",
       "                                                 Url  \n",
       "0  https://www.glassdoor.com/partner/jobListing.h...  \n",
       "1  https://www.glassdoor.com/partner/jobListing.h...  \n",
       "2  https://www.glassdoor.com/partner/jobListing.h...  \n",
       "3  https://www.glassdoor.com/partner/jobListing.h...  \n",
       "4  https://www.glassdoor.com/partner/jobListing.h...  "
      ]
     },
     "execution_count": 3,
     "metadata": {},
     "output_type": "execute_result"
    }
   ],
   "source": [
    "eng_jobs.head()"
   ]
  },
  {
   "cell_type": "code",
   "execution_count": 4,
   "metadata": {},
   "outputs": [
    {
     "data": {
      "text/html": [
       "<div>\n",
       "<style scoped>\n",
       "    .dataframe tbody tr th:only-of-type {\n",
       "        vertical-align: middle;\n",
       "    }\n",
       "\n",
       "    .dataframe tbody tr th {\n",
       "        vertical-align: top;\n",
       "    }\n",
       "\n",
       "    .dataframe thead th {\n",
       "        text-align: right;\n",
       "    }\n",
       "</style>\n",
       "<table border=\"1\" class=\"dataframe\">\n",
       "  <thead>\n",
       "    <tr style=\"text-align: right;\">\n",
       "      <th></th>\n",
       "      <th>Name</th>\n",
       "      <th>Company</th>\n",
       "      <th>State</th>\n",
       "      <th>City</th>\n",
       "      <th>Salary</th>\n",
       "      <th>Location</th>\n",
       "      <th>Url</th>\n",
       "    </tr>\n",
       "  </thead>\n",
       "  <tbody>\n",
       "    <tr>\n",
       "      <th>0</th>\n",
       "      <td>Finance Manager</td>\n",
       "      <td>Connecticut Conference of Municipalities</td>\n",
       "      <td>CT</td>\n",
       "      <td>New Haven</td>\n",
       "      <td>NaN</td>\n",
       "      <td>New Haven, CT</td>\n",
       "      <td>https://www.glassdoor.com/partner/jobListing.h...</td>\n",
       "    </tr>\n",
       "    <tr>\n",
       "      <th>1</th>\n",
       "      <td>Finance Analyst</td>\n",
       "      <td>Positec</td>\n",
       "      <td>NC</td>\n",
       "      <td>Charlotte</td>\n",
       "      <td>$42k-$63k</td>\n",
       "      <td>Charlotte, NC</td>\n",
       "      <td>https://www.glassdoor.com/partner/jobListing.h...</td>\n",
       "    </tr>\n",
       "    <tr>\n",
       "      <th>2</th>\n",
       "      <td>Financial Analyst</td>\n",
       "      <td>The Concourse Group, LLC</td>\n",
       "      <td>MD</td>\n",
       "      <td>Annapolis</td>\n",
       "      <td>NaN</td>\n",
       "      <td>Annapolis, MD</td>\n",
       "      <td>https://www.glassdoor.com/partner/jobListing.h...</td>\n",
       "    </tr>\n",
       "    <tr>\n",
       "      <th>3</th>\n",
       "      <td>Finance Manager</td>\n",
       "      <td>OYSTER COVE BOAT WORKS &amp; YACHT BROKERAGE, INC</td>\n",
       "      <td>VA</td>\n",
       "      <td>Gloucester</td>\n",
       "      <td>NaN</td>\n",
       "      <td>Gloucester, VA</td>\n",
       "      <td>https://www.glassdoor.com/partner/jobListing.h...</td>\n",
       "    </tr>\n",
       "    <tr>\n",
       "      <th>4</th>\n",
       "      <td>Finance Manager</td>\n",
       "      <td>Waldorf Auto Group</td>\n",
       "      <td>MD</td>\n",
       "      <td>Waldorf</td>\n",
       "      <td>NaN</td>\n",
       "      <td>Waldorf, MD</td>\n",
       "      <td>https://www.glassdoor.com/partner/jobListing.h...</td>\n",
       "    </tr>\n",
       "  </tbody>\n",
       "</table>\n",
       "</div>"
      ],
      "text/plain": [
       "                Name                                        Company State  \\\n",
       "0    Finance Manager       Connecticut Conference of Municipalities    CT   \n",
       "1    Finance Analyst                                        Positec    NC   \n",
       "2  Financial Analyst                       The Concourse Group, LLC    MD   \n",
       "3    Finance Manager  OYSTER COVE BOAT WORKS & YACHT BROKERAGE, INC    VA   \n",
       "4    Finance Manager                             Waldorf Auto Group    MD   \n",
       "\n",
       "         City     Salary        Location  \\\n",
       "0   New Haven        NaN   New Haven, CT   \n",
       "1   Charlotte  $42k-$63k   Charlotte, NC   \n",
       "2   Annapolis        NaN   Annapolis, MD   \n",
       "3  Gloucester        NaN  Gloucester, VA   \n",
       "4     Waldorf        NaN     Waldorf, MD   \n",
       "\n",
       "                                                 Url  \n",
       "0  https://www.glassdoor.com/partner/jobListing.h...  \n",
       "1  https://www.glassdoor.com/partner/jobListing.h...  \n",
       "2  https://www.glassdoor.com/partner/jobListing.h...  \n",
       "3  https://www.glassdoor.com/partner/jobListing.h...  \n",
       "4  https://www.glassdoor.com/partner/jobListing.h...  "
      ]
     },
     "execution_count": 4,
     "metadata": {},
     "output_type": "execute_result"
    }
   ],
   "source": [
    "finance_jobs.head()"
   ]
  },
  {
   "cell_type": "code",
   "execution_count": 5,
   "metadata": {},
   "outputs": [
    {
     "data": {
      "text/html": [
       "<div>\n",
       "<style scoped>\n",
       "    .dataframe tbody tr th:only-of-type {\n",
       "        vertical-align: middle;\n",
       "    }\n",
       "\n",
       "    .dataframe tbody tr th {\n",
       "        vertical-align: top;\n",
       "    }\n",
       "\n",
       "    .dataframe thead th {\n",
       "        text-align: right;\n",
       "    }\n",
       "</style>\n",
       "<table border=\"1\" class=\"dataframe\">\n",
       "  <thead>\n",
       "    <tr style=\"text-align: right;\">\n",
       "      <th></th>\n",
       "      <th>Name</th>\n",
       "      <th>Company</th>\n",
       "      <th>State</th>\n",
       "      <th>City</th>\n",
       "      <th>Salary</th>\n",
       "      <th>Location</th>\n",
       "      <th>Url</th>\n",
       "    </tr>\n",
       "  </thead>\n",
       "  <tbody>\n",
       "    <tr>\n",
       "      <th>0</th>\n",
       "      <td>IT Support Engineer</td>\n",
       "      <td>Audible</td>\n",
       "      <td>NJ</td>\n",
       "      <td>Newark</td>\n",
       "      <td>$49k-$82k</td>\n",
       "      <td>Newark, NJ</td>\n",
       "      <td>https://www.glassdoor.com/partner/jobListing.h...</td>\n",
       "    </tr>\n",
       "    <tr>\n",
       "      <th>1</th>\n",
       "      <td>IT Helpdesk Analyst</td>\n",
       "      <td>Loop Recruiting</td>\n",
       "      <td>IN</td>\n",
       "      <td>Indianapolis</td>\n",
       "      <td>NaN</td>\n",
       "      <td>Indianapolis, IN</td>\n",
       "      <td>https://www.glassdoor.com/partner/jobListing.h...</td>\n",
       "    </tr>\n",
       "    <tr>\n",
       "      <th>2</th>\n",
       "      <td>IT Consultant</td>\n",
       "      <td>Burton McCumber &amp; Longoria</td>\n",
       "      <td>TX</td>\n",
       "      <td>Brownsville</td>\n",
       "      <td>NaN</td>\n",
       "      <td>Brownsville, TX</td>\n",
       "      <td>https://www.glassdoor.com/partner/jobListing.h...</td>\n",
       "    </tr>\n",
       "    <tr>\n",
       "      <th>3</th>\n",
       "      <td>IT Support Technician</td>\n",
       "      <td>School Tech Team</td>\n",
       "      <td>IL</td>\n",
       "      <td>Oakbrook Terrace</td>\n",
       "      <td>NaN</td>\n",
       "      <td>Oakbrook Terrace, IL</td>\n",
       "      <td>https://www.glassdoor.com/partner/jobListing.h...</td>\n",
       "    </tr>\n",
       "    <tr>\n",
       "      <th>4</th>\n",
       "      <td>Systems Administrator</td>\n",
       "      <td>Kansas City Managed IT</td>\n",
       "      <td>MO</td>\n",
       "      <td>Kansas City</td>\n",
       "      <td>$30k-$40k</td>\n",
       "      <td>Kansas City, MO</td>\n",
       "      <td>https://www.glassdoor.com/partner/jobListing.h...</td>\n",
       "    </tr>\n",
       "  </tbody>\n",
       "</table>\n",
       "</div>"
      ],
      "text/plain": [
       "                    Name                     Company State              City  \\\n",
       "0    IT Support Engineer                     Audible    NJ            Newark   \n",
       "1    IT Helpdesk Analyst             Loop Recruiting    IN      Indianapolis   \n",
       "2          IT Consultant  Burton McCumber & Longoria    TX       Brownsville   \n",
       "3  IT Support Technician            School Tech Team    IL  Oakbrook Terrace   \n",
       "4  Systems Administrator      Kansas City Managed IT    MO       Kansas City   \n",
       "\n",
       "      Salary              Location  \\\n",
       "0  $49k-$82k            Newark, NJ   \n",
       "1        NaN      Indianapolis, IN   \n",
       "2        NaN       Brownsville, TX   \n",
       "3        NaN  Oakbrook Terrace, IL   \n",
       "4  $30k-$40k       Kansas City, MO   \n",
       "\n",
       "                                                 Url  \n",
       "0  https://www.glassdoor.com/partner/jobListing.h...  \n",
       "1  https://www.glassdoor.com/partner/jobListing.h...  \n",
       "2  https://www.glassdoor.com/partner/jobListing.h...  \n",
       "3  https://www.glassdoor.com/partner/jobListing.h...  \n",
       "4  https://www.glassdoor.com/partner/jobListing.h...  "
      ]
     },
     "execution_count": 5,
     "metadata": {},
     "output_type": "execute_result"
    }
   ],
   "source": [
    "it_jobs.head()"
   ]
  },
  {
   "cell_type": "code",
   "execution_count": 6,
   "metadata": {},
   "outputs": [
    {
     "data": {
      "text/html": [
       "<div>\n",
       "<style scoped>\n",
       "    .dataframe tbody tr th:only-of-type {\n",
       "        vertical-align: middle;\n",
       "    }\n",
       "\n",
       "    .dataframe tbody tr th {\n",
       "        vertical-align: top;\n",
       "    }\n",
       "\n",
       "    .dataframe thead th {\n",
       "        text-align: right;\n",
       "    }\n",
       "</style>\n",
       "<table border=\"1\" class=\"dataframe\">\n",
       "  <thead>\n",
       "    <tr style=\"text-align: right;\">\n",
       "      <th></th>\n",
       "      <th>Name</th>\n",
       "      <th>Company</th>\n",
       "      <th>State</th>\n",
       "      <th>City</th>\n",
       "      <th>Salary</th>\n",
       "      <th>Location</th>\n",
       "      <th>Url</th>\n",
       "    </tr>\n",
       "  </thead>\n",
       "  <tbody>\n",
       "    <tr>\n",
       "      <th>0</th>\n",
       "      <td>Marketing Coordinator</td>\n",
       "      <td>Ad Strategies</td>\n",
       "      <td>AZ</td>\n",
       "      <td>Scottsdale</td>\n",
       "      <td>$40k-$60k</td>\n",
       "      <td>Scottsdale, AZ</td>\n",
       "      <td>https://www.glassdoor.com/partner/jobListing.h...</td>\n",
       "    </tr>\n",
       "    <tr>\n",
       "      <th>1</th>\n",
       "      <td>Entry Level Marketing &amp; Advertising</td>\n",
       "      <td>Golden State Events</td>\n",
       "      <td>CA</td>\n",
       "      <td>Pleasanton</td>\n",
       "      <td>NaN</td>\n",
       "      <td>Pleasanton, CA</td>\n",
       "      <td>https://www.glassdoor.com/partner/jobListing.h...</td>\n",
       "    </tr>\n",
       "    <tr>\n",
       "      <th>2</th>\n",
       "      <td>Marketing Manager</td>\n",
       "      <td>SourceOne Events</td>\n",
       "      <td>IL</td>\n",
       "      <td>Lombard</td>\n",
       "      <td>$40k-$50k</td>\n",
       "      <td>Lombard, IL</td>\n",
       "      <td>https://www.glassdoor.com/partner/jobListing.h...</td>\n",
       "    </tr>\n",
       "    <tr>\n",
       "      <th>3</th>\n",
       "      <td>Marketing Coordinator</td>\n",
       "      <td>Human Supports of Idaho</td>\n",
       "      <td>ID</td>\n",
       "      <td>Boise</td>\n",
       "      <td>$14-$16</td>\n",
       "      <td>Boise, ID</td>\n",
       "      <td>https://www.glassdoor.com/partner/jobListing.h...</td>\n",
       "    </tr>\n",
       "    <tr>\n",
       "      <th>4</th>\n",
       "      <td>Digital Marketing Consultant</td>\n",
       "      <td>The Design Group</td>\n",
       "      <td>SC</td>\n",
       "      <td>Charleston</td>\n",
       "      <td>NaN</td>\n",
       "      <td>Charleston, SC</td>\n",
       "      <td>https://www.glassdoor.com/partner/jobListing.h...</td>\n",
       "    </tr>\n",
       "  </tbody>\n",
       "</table>\n",
       "</div>"
      ],
      "text/plain": [
       "                                  Name                  Company State  \\\n",
       "0                Marketing Coordinator            Ad Strategies    AZ   \n",
       "1  Entry Level Marketing & Advertising      Golden State Events    CA   \n",
       "2                    Marketing Manager         SourceOne Events    IL   \n",
       "3                Marketing Coordinator  Human Supports of Idaho    ID   \n",
       "4         Digital Marketing Consultant         The Design Group    SC   \n",
       "\n",
       "         City     Salary        Location  \\\n",
       "0  Scottsdale  $40k-$60k  Scottsdale, AZ   \n",
       "1  Pleasanton        NaN  Pleasanton, CA   \n",
       "2     Lombard  $40k-$50k     Lombard, IL   \n",
       "3       Boise    $14-$16       Boise, ID   \n",
       "4  Charleston        NaN  Charleston, SC   \n",
       "\n",
       "                                                 Url  \n",
       "0  https://www.glassdoor.com/partner/jobListing.h...  \n",
       "1  https://www.glassdoor.com/partner/jobListing.h...  \n",
       "2  https://www.glassdoor.com/partner/jobListing.h...  \n",
       "3  https://www.glassdoor.com/partner/jobListing.h...  \n",
       "4  https://www.glassdoor.com/partner/jobListing.h...  "
      ]
     },
     "execution_count": 6,
     "metadata": {},
     "output_type": "execute_result"
    }
   ],
   "source": [
    "market_jobs.head()"
   ]
  },
  {
   "cell_type": "code",
   "execution_count": 9,
   "metadata": {},
   "outputs": [],
   "source": [
    "# merge tables\n",
    "merged_jobs = pd.concat(jobs_category, ignore_index=True, sort=False)\n",
    "# drop duplicates\n",
    "merged_jobs = merged_jobs.drop_duplicates()\n",
    "merged_jobs = merged_jobs.reset_index(drop=True)"
   ]
  },
  {
   "cell_type": "code",
   "execution_count": 10,
   "metadata": {},
   "outputs": [
    {
     "data": {
      "text/html": [
       "<div>\n",
       "<style scoped>\n",
       "    .dataframe tbody tr th:only-of-type {\n",
       "        vertical-align: middle;\n",
       "    }\n",
       "\n",
       "    .dataframe tbody tr th {\n",
       "        vertical-align: top;\n",
       "    }\n",
       "\n",
       "    .dataframe thead th {\n",
       "        text-align: right;\n",
       "    }\n",
       "</style>\n",
       "<table border=\"1\" class=\"dataframe\">\n",
       "  <thead>\n",
       "    <tr style=\"text-align: right;\">\n",
       "      <th></th>\n",
       "      <th>Name</th>\n",
       "      <th>Company</th>\n",
       "      <th>State</th>\n",
       "      <th>City</th>\n",
       "      <th>Salary</th>\n",
       "      <th>Location</th>\n",
       "      <th>Url</th>\n",
       "    </tr>\n",
       "  </thead>\n",
       "  <tbody>\n",
       "    <tr>\n",
       "      <th>0</th>\n",
       "      <td>Product Engineer I</td>\n",
       "      <td>AeroVironment</td>\n",
       "      <td>CA</td>\n",
       "      <td>Simi Valley</td>\n",
       "      <td>$69k-$95k</td>\n",
       "      <td>Simi Valley, CA</td>\n",
       "      <td>https://www.glassdoor.com/partner/jobListing.h...</td>\n",
       "    </tr>\n",
       "    <tr>\n",
       "      <th>1</th>\n",
       "      <td>Software Engineer - University Graduate</td>\n",
       "      <td>PayPal</td>\n",
       "      <td>CA</td>\n",
       "      <td>San Jose</td>\n",
       "      <td>$109k-$156k</td>\n",
       "      <td>San Jose, CA</td>\n",
       "      <td>https://www.glassdoor.com/partner/jobListing.h...</td>\n",
       "    </tr>\n",
       "    <tr>\n",
       "      <th>2</th>\n",
       "      <td>Project Engineer</td>\n",
       "      <td>LangCo NW, Inc.</td>\n",
       "      <td>WA</td>\n",
       "      <td>Oak Harbor</td>\n",
       "      <td>NaN</td>\n",
       "      <td>Oak Harbor, WA</td>\n",
       "      <td>https://www.glassdoor.com/partner/jobListing.h...</td>\n",
       "    </tr>\n",
       "    <tr>\n",
       "      <th>3</th>\n",
       "      <td>Head of Engineering</td>\n",
       "      <td>Jovio</td>\n",
       "      <td>TX</td>\n",
       "      <td>Austin</td>\n",
       "      <td>$120k-$150k</td>\n",
       "      <td>Austin, TX</td>\n",
       "      <td>https://www.glassdoor.com/partner/jobListing.h...</td>\n",
       "    </tr>\n",
       "    <tr>\n",
       "      <th>4</th>\n",
       "      <td>Senior Hardware Engineer</td>\n",
       "      <td>Scale Computing</td>\n",
       "      <td>IN</td>\n",
       "      <td>Indianapolis</td>\n",
       "      <td>NaN</td>\n",
       "      <td>Indianapolis, IN</td>\n",
       "      <td>https://www.glassdoor.com/partner/jobListing.h...</td>\n",
       "    </tr>\n",
       "  </tbody>\n",
       "</table>\n",
       "</div>"
      ],
      "text/plain": [
       "                                      Name          Company State  \\\n",
       "0                       Product Engineer I    AeroVironment    CA   \n",
       "1  Software Engineer - University Graduate           PayPal    CA   \n",
       "2                         Project Engineer  LangCo NW, Inc.    WA   \n",
       "3                      Head of Engineering            Jovio    TX   \n",
       "4                 Senior Hardware Engineer  Scale Computing    IN   \n",
       "\n",
       "           City       Salary          Location  \\\n",
       "0   Simi Valley    $69k-$95k   Simi Valley, CA   \n",
       "1      San Jose  $109k-$156k      San Jose, CA   \n",
       "2    Oak Harbor          NaN    Oak Harbor, WA   \n",
       "3        Austin  $120k-$150k        Austin, TX   \n",
       "4  Indianapolis          NaN  Indianapolis, IN   \n",
       "\n",
       "                                                 Url  \n",
       "0  https://www.glassdoor.com/partner/jobListing.h...  \n",
       "1  https://www.glassdoor.com/partner/jobListing.h...  \n",
       "2  https://www.glassdoor.com/partner/jobListing.h...  \n",
       "3  https://www.glassdoor.com/partner/jobListing.h...  \n",
       "4  https://www.glassdoor.com/partner/jobListing.h...  "
      ]
     },
     "execution_count": 10,
     "metadata": {},
     "output_type": "execute_result"
    }
   ],
   "source": [
    "merged_jobs.head()"
   ]
  },
  {
   "cell_type": "code",
   "execution_count": 11,
   "metadata": {},
   "outputs": [
    {
     "name": "stdout",
     "output_type": "stream",
     "text": [
      "Total number of jobs scraped: 3834\n"
     ]
    }
   ],
   "source": [
    "print(\"Total number of jobs scraped: {}\".format(len(merged_jobs)))"
   ]
  },
  {
   "cell_type": "markdown",
   "metadata": {},
   "source": [
    "## Q.2(a) Which city in US offers the most job opportunities?"
   ]
  },
  {
   "cell_type": "code",
   "execution_count": 12,
   "metadata": {},
   "outputs": [],
   "source": [
    "def compute_most_job_by_city(jobs, top=10):\n",
    "    jobs = jobs[jobs['Location'] != \"Remote\"]\n",
    "    #jobs['Location'] = jobs['Location'].apply(lambda x: x.split(\", \")[0].lower())\n",
    "    #gb = jobs.groupby('Location')\n",
    "    gb = jobs.groupby('City')\n",
    "    city_num = dict(gb.size())\n",
    "    num_city = sorted([(v, k) for k,v in city_num.items()], key=lambda x: x[0], reverse=True)[:top]\n",
    "    count = [x[0] for x in num_city]\n",
    "    cities = [x[1].title().replace(\" \", \"\\n\") for x in num_city]\n",
    "    \n",
    "    return count, cities  "
   ]
  },
  {
   "cell_type": "code",
   "execution_count": 13,
   "metadata": {},
   "outputs": [],
   "source": [
    "city_count, cities = compute_most_job_by_city(merged_jobs.copy())"
   ]
  },
  {
   "cell_type": "code",
   "execution_count": 14,
   "metadata": {},
   "outputs": [
    {
     "data": {
      "image/png": "[encoded data removed]",
      "text/plain": [
       "<Figure size 1296x720 with 1 Axes>"
      ]
     },
     "metadata": {},
     "output_type": "display_data"
    }
   ],
   "source": [
    "# Plot\n",
    "fig, ax = plt.subplots(1, 1, figsize=(18, 10))\n",
    "ax.bar(cities, city_count, facecolor=\"green\", width=0.5)\n",
    "ax.set_xlabel('Cities', fontsize=20)\n",
    "ax.set_ylabel('Number of jobs', fontsize=20)\n",
    "ax.set_title('Which cities in the US offers the most job opportunities?', fontsize=20)\n",
    "ax.tick_params(labelsize=16)\n",
    "#fig.savefig('image.png', format='png', dpi=300)"
   ]
  },
  {
   "cell_type": "markdown",
   "metadata": {},
   "source": [
    "## Q.2(b) Which state in US offers the most job opportunities?"
   ]
  },
  {
   "cell_type": "code",
   "execution_count": 15,
   "metadata": {},
   "outputs": [],
   "source": [
    "us_state_abbrev = {\n",
    "    'Alabama': 'AL',\n",
    "    'Alaska': 'AK',\n",
    "    'Arizona': 'AZ',\n",
    "    'Arkansas': 'AR',\n",
    "    'California': 'CA',\n",
    "    'Colorado': 'CO',\n",
    "    'Connecticut': 'CT',\n",
    "    'Delaware': 'DE',\n",
    "    'District of Columbia': 'DC',\n",
    "    'Florida': 'FL',\n",
    "    'Georgia': 'GA',\n",
    "    'Hawaii': 'HI',\n",
    "    'Idaho': 'ID',\n",
    "    'Illinois': 'IL',\n",
    "    'Indiana': 'IN',\n",
    "    'Iowa': 'IA',\n",
    "    'Kansas': 'KS',\n",
    "    'Kentucky': 'KY',\n",
    "    'Louisiana': 'LA',\n",
    "    'Maine': 'ME',\n",
    "    'Maryland': 'MD',\n",
    "    'Massachusetts': 'MA',\n",
    "    'Michigan': 'MI',\n",
    "    'Minnesota': 'MN',\n",
    "    'Mississippi': 'MS',\n",
    "    'Missouri': 'MO',\n",
    "    'Montana': 'MT',\n",
    "    'Nebraska': 'NE',\n",
    "    'Nevada': 'NV',\n",
    "    'New Hampshire': 'NH',\n",
    "    'New Jersey': 'NJ',\n",
    "    'New Mexico': 'NM',\n",
    "    'New York': 'NY',\n",
    "    'North Carolina': 'NC',\n",
    "    'North Dakota': 'ND',\n",
    "    'Northern Mariana Islands':'MP',\n",
    "    'Ohio': 'OH',\n",
    "    'Oklahoma': 'OK',\n",
    "    'Oregon': 'OR',\n",
    "    'Palau': 'PW',\n",
    "    'Pennsylvania': 'PA',\n",
    "    'Puerto Rico': 'PR',\n",
    "    'Rhode Island': 'RI',\n",
    "    'South Carolina': 'SC',\n",
    "    'South Dakota': 'SD',\n",
    "    'Tennessee': 'TN',\n",
    "    'Texas': 'TX',\n",
    "    'Utah': 'UT',\n",
    "    'Vermont': 'VT',\n",
    "    'Virgin Islands': 'VI',\n",
    "    'Virginia': 'VA',\n",
    "    'Washington': 'WA',\n",
    "    'West Virginia': 'WV',\n",
    "    'Wisconsin': 'WI',\n",
    "    'Wyoming': 'WY',\n",
    "}\n",
    "abbrev_us_state = dict(map(reversed, us_state_abbrev.items()))"
   ]
  },
  {
   "cell_type": "code",
   "execution_count": 16,
   "metadata": {},
   "outputs": [],
   "source": [
    "def compute_most_job_by_state(jobs, top=10):\n",
    "    jobs = jobs[jobs['Location'] != \"Remote\"]\n",
    "    #jobs['Location'] = jobs['Location'].apply(lambda x: x.split(\" \")[-1])\n",
    "    \n",
    "    #gb = jobs.groupby('Location')\n",
    "    gb = jobs.groupby('State')\n",
    "    state_num = dict(gb.size())\n",
    "    num_state = sorted([(v, k) for k,v in state_num.items()], key=lambda x: x[0], reverse=True)[:top]\n",
    "    count = [x for x,_ in num_state]\n",
    "    states = [x if len(abbrev_us_state[x])>10 else abbrev_us_state[x].replace(\" \", \"\\n\") for _,x in num_state]\n",
    "    \n",
    "    return count, states"
   ]
  },
  {
   "cell_type": "code",
   "execution_count": 17,
   "metadata": {},
   "outputs": [],
   "source": [
    "count_state, states = compute_most_job_by_state(merged_jobs.copy())"
   ]
  },
  {
   "cell_type": "code",
   "execution_count": 18,
   "metadata": {},
   "outputs": [
    {
     "data": {
      "image/png": "[encoded data removed]",
      "text/plain": [
       "<Figure size 1296x720 with 1 Axes>"
      ]
     },
     "metadata": {},
     "output_type": "display_data"
    }
   ],
   "source": [
    "# Plot\n",
    "fig, ax = plt.subplots(1, 1, figsize=(18, 10))\n",
    "ax.bar(states, count_state, facecolor=\"green\", width=0.5)\n",
    "ax.set_xlabel('States', fontsize=20)\n",
    "ax.set_ylabel('Number of jobs', fontsize=20)\n",
    "ax.set_title('Which state in the US offers the most job opportunities?', fontsize=20)\n",
    "ax.tick_params(labelsize=16)\n",
    "#fig.savefig('image.png', format='png', dpi=300)"
   ]
  },
  {
   "cell_type": "markdown",
   "metadata": {},
   "source": [
    "## Q.5(a) Which company offers the most number of jobs?"
   ]
  },
  {
   "cell_type": "code",
   "execution_count": 36,
   "metadata": {},
   "outputs": [],
   "source": [
    "def compute_most_jobs_by_company(jobs, top=10):   \n",
    "    gb = jobs.groupby('Company')\n",
    "    comp_num = dict(gb.size())\n",
    "    num_comp = sorted([(v, k) for k,v in comp_num.items()], key=lambda x: x[0], reverse=True)[:top]\n",
    "    count = [x for x,_ in num_comp]\n",
    "    comp = [x.title().replace(\" \", \"\\n\") for _,x in num_comp]\n",
    "    \n",
    "    return count, comp"
   ]
  },
  {
   "cell_type": "code",
   "execution_count": 37,
   "metadata": {},
   "outputs": [],
   "source": [
    "count_comp, top_comp = compute_most_jobs_by_company(merged_jobs.copy())"
   ]
  },
  {
   "cell_type": "code",
   "execution_count": 38,
   "metadata": {},
   "outputs": [
    {
     "data": {
      "image/png": "[encoded data removed]",
      "text/plain": [
       "<Figure size 1296x720 with 1 Axes>"
      ]
     },
     "metadata": {},
     "output_type": "display_data"
    }
   ],
   "source": [
    "# Plot\n",
    "fig, ax = plt.subplots(1, 1, figsize=(18, 10))\n",
    "ax.bar(top_comp, count_comp, facecolor=\"green\", width=0.5)\n",
    "ax.set_xlabel('Company', fontsize=20)\n",
    "ax.set_ylabel('Number of jobs', fontsize=20)\n",
    "ax.set_title('Which company offers the most number of jobs?', fontsize=20)\n",
    "ax.tick_params(labelsize=16)\n",
    "#fig.savefig('image.png', format='png', dpi=300)"
   ]
  },
  {
   "cell_type": "markdown",
   "metadata": {},
   "source": [
    "## Q.5(b) Which company offers a versatile portfolio of jobs?"
   ]
  },
  {
   "cell_type": "code",
   "execution_count": 40,
   "metadata": {},
   "outputs": [],
   "source": [
    "def count_unique_titles_by_company(jobs, top=10):\n",
    "    gb = jobs.groupby('Company')\n",
    "    gb = gb.nunique(dropna=True).sort_values(ascending=False, by=['Name'])\n",
    "    comp = gb.index[:top]\n",
    "    titles = [gb.loc[idx, 'Name'] for idx in comp]\n",
    "    comp = [x.title().replace(\" \", \"\\n\") for x in comp]\n",
    "    \n",
    "    return titles, comp\n",
    "    "
   ]
  },
  {
   "cell_type": "code",
   "execution_count": 41,
   "metadata": {},
   "outputs": [],
   "source": [
    "unique_titles, vcomp = count_unique_titles_by_company(merged_jobs.copy())"
   ]
  },
  {
   "cell_type": "code",
   "execution_count": 42,
   "metadata": {},
   "outputs": [
    {
     "data": {
      "image/png": "[encoded data removed]",
      "text/plain": [
       "<Figure size 1296x720 with 1 Axes>"
      ]
     },
     "metadata": {},
     "output_type": "display_data"
    }
   ],
   "source": [
    "# Plot\n",
    "fig, ax = plt.subplots(1, 1, figsize=(18, 10))\n",
    "ax.bar(vcomp, unique_titles, facecolor=\"green\", width=0.5)\n",
    "ax.set_xlabel('Company', fontsize=20)\n",
    "ax.set_ylabel('Number of jobs', fontsize=20)\n",
    "ax.set_title('Which company offers the most number of jobs?', fontsize=20)\n",
    "ax.tick_params(labelsize=16)\n",
    "#fig.savefig('image.png', format='png', dpi=300)"
   ]
  },
  {
   "cell_type": "code",
   "execution_count": null,
   "metadata": {},
   "outputs": [],
   "source": []
  },
  {
   "cell_type": "code",
   "execution_count": null,
   "metadata": {},
   "outputs": [],
   "source": []
  },
  {
   "cell_type": "code",
   "execution_count": null,
   "metadata": {},
   "outputs": [],
   "source": []
  }
 ],
 "metadata": {
  "kernelspec": {
   "display_name": "Python 3",
   "language": "python",
   "name": "python3"
  },
  "language_info": {
   "codemirror_mode": {
    "name": "ipython",
    "version": 3
   },
   "file_extension": ".py",
   "mimetype": "text/x-python",
   "name": "python",
   "nbconvert_exporter": "python",
   "pygments_lexer": "ipython3",
   "version": "3.6.5"
  }
 },
 "nbformat": 4,
 "nbformat_minor": 2
}
