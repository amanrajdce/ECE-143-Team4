{
 "cells": [
  {
   "cell_type": "markdown",
   "metadata": {},
   "source": [
    "Muwei is working on this part of project. Last updated 11.11"
   ]
  },
  {
   "cell_type": "markdown",
   "metadata": {},
   "source": [
    "## 1.What kind of jobs can get the highest salary in the current days?"
   ]
  },
  {
   "cell_type": "code",
   "execution_count": 1,
   "metadata": {},
   "outputs": [],
   "source": [
    "import numpy as np\n",
    "import pandas as pd\n",
    "import matplotlib.pyplot as plt\n",
    "import math\n",
    "import re\n",
    "import seaborn as sns\n",
    "from scipy import stats"
   ]
  },
  {
   "cell_type": "code",
   "execution_count": 2,
   "metadata": {},
   "outputs": [],
   "source": [
    "eng_data=pd.read_csv('Scraper/engineering-jobs-job-results.csv')\n",
    "fn_data=pd.read_csv('Scraper/finance-jobs-job-results.csv')\n",
    "int_data=pd.read_csv('Scraper/intern-jobs-job-results.csv')\n",
    "it_data=pd.read_csv('Scraper/it-jobs-job-results.csv')\n",
    "mk_data=pd.read_csv('Scraper/marketing-jobs-job-results.csv')"
   ]
  },
  {
   "cell_type": "code",
   "execution_count": 3,
   "metadata": {},
   "outputs": [
    {
     "data": {
      "text/html": [
       "<div>\n",
       "<style scoped>\n",
       "    .dataframe tbody tr th:only-of-type {\n",
       "        vertical-align: middle;\n",
       "    }\n",
       "\n",
       "    .dataframe tbody tr th {\n",
       "        vertical-align: top;\n",
       "    }\n",
       "\n",
       "    .dataframe thead th {\n",
       "        text-align: right;\n",
       "    }\n",
       "</style>\n",
       "<table border=\"1\" class=\"dataframe\">\n",
       "  <thead>\n",
       "    <tr style=\"text-align: right;\">\n",
       "      <th></th>\n",
       "      <th>Name</th>\n",
       "      <th>Company</th>\n",
       "      <th>State</th>\n",
       "      <th>City</th>\n",
       "      <th>Salary</th>\n",
       "      <th>Location</th>\n",
       "      <th>Url</th>\n",
       "    </tr>\n",
       "  </thead>\n",
       "  <tbody>\n",
       "    <tr>\n",
       "      <th>0</th>\n",
       "      <td>Product Engineer I</td>\n",
       "      <td>AeroVironment</td>\n",
       "      <td>CA</td>\n",
       "      <td>Simi Valley</td>\n",
       "      <td>$69k-$95k</td>\n",
       "      <td>Simi Valley, CA</td>\n",
       "      <td>https://www.glassdoor.com/partner/jobListing.h...</td>\n",
       "    </tr>\n",
       "    <tr>\n",
       "      <th>1</th>\n",
       "      <td>Software Engineer - University Graduate</td>\n",
       "      <td>PayPal</td>\n",
       "      <td>CA</td>\n",
       "      <td>San Jose</td>\n",
       "      <td>$109k-$156k</td>\n",
       "      <td>San Jose, CA</td>\n",
       "      <td>https://www.glassdoor.com/partner/jobListing.h...</td>\n",
       "    </tr>\n",
       "    <tr>\n",
       "      <th>2</th>\n",
       "      <td>Project Engineer</td>\n",
       "      <td>LangCo NW, Inc.</td>\n",
       "      <td>WA</td>\n",
       "      <td>Oak Harbor</td>\n",
       "      <td>NaN</td>\n",
       "      <td>Oak Harbor, WA</td>\n",
       "      <td>https://www.glassdoor.com/partner/jobListing.h...</td>\n",
       "    </tr>\n",
       "    <tr>\n",
       "      <th>3</th>\n",
       "      <td>Head of Engineering</td>\n",
       "      <td>Jovio</td>\n",
       "      <td>TX</td>\n",
       "      <td>Austin</td>\n",
       "      <td>$120k-$150k</td>\n",
       "      <td>Austin, TX</td>\n",
       "      <td>https://www.glassdoor.com/partner/jobListing.h...</td>\n",
       "    </tr>\n",
       "    <tr>\n",
       "      <th>4</th>\n",
       "      <td>Senior Hardware Engineer</td>\n",
       "      <td>Scale Computing</td>\n",
       "      <td>IN</td>\n",
       "      <td>Indianapolis</td>\n",
       "      <td>NaN</td>\n",
       "      <td>Indianapolis, IN</td>\n",
       "      <td>https://www.glassdoor.com/partner/jobListing.h...</td>\n",
       "    </tr>\n",
       "  </tbody>\n",
       "</table>\n",
       "</div>"
      ],
      "text/plain": [
       "                                      Name          Company State  \\\n",
       "0                       Product Engineer I    AeroVironment    CA   \n",
       "1  Software Engineer - University Graduate           PayPal    CA   \n",
       "2                         Project Engineer  LangCo NW, Inc.    WA   \n",
       "3                      Head of Engineering            Jovio    TX   \n",
       "4                 Senior Hardware Engineer  Scale Computing    IN   \n",
       "\n",
       "           City       Salary          Location  \\\n",
       "0   Simi Valley    $69k-$95k   Simi Valley, CA   \n",
       "1      San Jose  $109k-$156k      San Jose, CA   \n",
       "2    Oak Harbor          NaN    Oak Harbor, WA   \n",
       "3        Austin  $120k-$150k        Austin, TX   \n",
       "4  Indianapolis          NaN  Indianapolis, IN   \n",
       "\n",
       "                                                 Url  \n",
       "0  https://www.glassdoor.com/partner/jobListing.h...  \n",
       "1  https://www.glassdoor.com/partner/jobListing.h...  \n",
       "2  https://www.glassdoor.com/partner/jobListing.h...  \n",
       "3  https://www.glassdoor.com/partner/jobListing.h...  \n",
       "4  https://www.glassdoor.com/partner/jobListing.h...  "
      ]
     },
     "execution_count": 3,
     "metadata": {},
     "output_type": "execute_result"
    }
   ],
   "source": [
    "eng_data.head()"
   ]
  },
  {
   "cell_type": "code",
   "execution_count": 4,
   "metadata": {},
   "outputs": [],
   "source": [
    "# compute average salary of each category of job\n",
    "def average_salary_of_category(job_data):\n",
    "    '''\n",
    "    for all non-0 input\n",
    "    compute average\n",
    "    '''\n",
    "    salary = []\n",
    "    for s in job_data['Salary']:\n",
    "        if type(s)==str:\n",
    "            r = re.findall(r'[^\\,$*\"/:?\\\\k|<>]', s, re.S)\n",
    "            r = \"\".join(r).strip().split('-')    \n",
    "            #print(r)\n",
    "            r[0] = int(r[0])\n",
    "            r[1] = int(r[1]) \n",
    "            salary.append(r)\n",
    "    df = pd.DataFrame(data=salary)\n",
    "    #aver = df.sum()/len(df)\n",
    "    return df"
   ]
  },
  {
   "cell_type": "code",
   "execution_count": 5,
   "metadata": {},
   "outputs": [],
   "source": [
    "# Data frame of low / high salary\n",
    "ave_eng = (average_salary_of_category(eng_data))\n",
    "ave_fn  = (average_salary_of_category(fn_data))\n",
    "ave_it  = (average_salary_of_category(it_data))\n",
    "ave_mk  = (average_salary_of_category(mk_data))"
   ]
  },
  {
   "cell_type": "code",
   "execution_count": 6,
   "metadata": {
    "scrolled": true
   },
   "outputs": [],
   "source": [
    "# low / high average\n",
    "salary_eng = ave_eng.sum()/len(ave_eng)\n",
    "salary_fn  = ave_fn.sum()/len(ave_fn)\n",
    "salary_it  = ave_it.sum()/len(ave_it)\n",
    "salary_mk  = ave_mk.sum()/len(ave_mk)"
   ]
  },
  {
   "cell_type": "code",
   "execution_count": 7,
   "metadata": {},
   "outputs": [
    {
     "data": {
      "image/png": "[encoded data removed]",
      "text/plain": [
       "<Figure size 432x288 with 1 Axes>"
      ]
     },
     "metadata": {},
     "output_type": "display_data"
    }
   ],
   "source": [
    "name_list = ['Engineering','Finance','IT','Marketing']\n",
    "num_list1 = [salary_eng[0],salary_fn[0],salary_it[0],salary_mk[0]]\n",
    "num_list2 = [salary_eng[1],salary_fn[1],salary_it[1],salary_mk[1]]\n",
    "x =list(range(len(num_list1)))\n",
    "total_width, n = 0.8, 2\n",
    "width = total_width / n\n",
    "plt.bar(x, num_list1, width=width, label='average low', color = 'blue')\n",
    "for i in range(len(x)):\n",
    "    x[i] = x[i] + width\n",
    "plt.bar(x, num_list2, width=width, label='average high', tick_label = name_list, color = 'yellow')\n",
    "plt.legend()\n",
    "plt.show()"
   ]
  },
  {
   "cell_type": "markdown",
   "metadata": {},
   "source": [
    "### The distribution of salary in each category"
   ]
  },
  {
   "cell_type": "code",
   "execution_count": 8,
   "metadata": {},
   "outputs": [
    {
     "data": {
      "text/plain": [
       "<matplotlib.axes._subplots.AxesSubplot at 0x1a157f07f0>"
      ]
     },
     "execution_count": 8,
     "metadata": {},
     "output_type": "execute_result"
    },
    {
     "data": {
      "image/png": "[encoded data removed]",
      "text/plain": [
       "<Figure size 576x432 with 2 Axes>"
      ]
     },
     "metadata": {},
     "output_type": "display_data"
    }
   ],
   "source": [
    "f, (ax1, ax2) = plt.subplots(2, 1, sharex=True, figsize=(8, 6))\n",
    "c1, c2, c3 = sns.color_palette('Set1', 3)\n",
    "sns.kdeplot(ave_eng[0], label = 'average low', shade=True, color=c2, ax=ax1)\n",
    "sns.kdeplot(ave_eng[1], label = 'average high',shade=True, color=c3, ax=ax1)\n",
    "sns.kdeplot(ave_fn[0], label = 'average low', shade=True, color=c2, ax=ax2)\n",
    "sns.kdeplot(ave_fn[1], label = 'average high',shade=True, color=c3, ax=ax2)\n",
    "#sns.kdeplot(ave_it[0], label = 'average low', shade=True, color=c1, ax=ax3)\n",
    "#sns.kdeplot(ave_it[1], label = 'average high',shade=True, color=c2, ax=ax3)\n",
    "#sns.kdeplot(ave_mk[0], label = 'average low', shade=True, color=c1, ax=ax4)\n",
    "#sns.kdeplot(ave_mk[1], label = 'average high',shade=True, color=c2, ax=ax4)"
   ]
  },
  {
   "cell_type": "code",
   "execution_count": 9,
   "metadata": {},
   "outputs": [
    {
     "data": {
      "text/plain": [
       "<matplotlib.axes._subplots.AxesSubplot at 0x1a14a87b38>"
      ]
     },
     "execution_count": 9,
     "metadata": {},
     "output_type": "execute_result"
    },
    {
     "data": {
      "image/png": "[encoded data removed]",
      "text/plain": [
       "<Figure size 576x432 with 2 Axes>"
      ]
     },
     "metadata": {},
     "output_type": "display_data"
    }
   ],
   "source": [
    "f, (ax3, ax4) = plt.subplots(2, 1, sharex=True, figsize=(8, 6))\n",
    "c1, c2, c3 = sns.color_palette('Set1', 3)\n",
    "sns.kdeplot(ave_it[0], label = 'average low', shade=True, color=c2, ax=ax3)\n",
    "sns.kdeplot(ave_it[1], label = 'average high',shade=True, color=c3, ax=ax3)\n",
    "sns.kdeplot(ave_mk[0], label = 'average low', shade=True, color=c2, ax=ax4)\n",
    "sns.kdeplot(ave_mk[1], label = 'average high',shade=True, color=c3, ax=ax4)"
   ]
  },
  {
   "cell_type": "markdown",
   "metadata": {},
   "source": [
    "## 2.What is the distribution of job opportunities among different categories?"
   ]
  },
  {
   "cell_type": "code",
   "execution_count": 10,
   "metadata": {},
   "outputs": [],
   "source": [
    "def most_frequent_words(job_data):\n",
    "    job_name = []\n",
    "    punctuation = '!.,;:?\"\\/#&+-'\n",
    "    for name in job_data['Name']:\n",
    "        name = re.sub(r'[{}]+'.format(punctuation),'',name)\n",
    "        #name = \"\".join(name)\n",
    "        o = (name.replace(\"  \", \" \").lower().split(\" \"))\n",
    "        for word in o:\n",
    "            job_name.append(word)\n",
    "\n",
    "\n",
    "    word_seq = {}\n",
    "    for word in job_name:\n",
    "        if word not in word_seq:\n",
    "            word_seq[word] = 1\n",
    "        else:\n",
    "            word_seq[word] += 1\n",
    "    ret = sorted(word_seq.items(),key = lambda x:x[1],reverse = True)[:25]\n",
    "    return ret"
   ]
  },
  {
   "cell_type": "code",
   "execution_count": 11,
   "metadata": {},
   "outputs": [
    {
     "data": {
      "text/plain": [
       "[('engineer', 912),\n",
       " ('senior', 313),\n",
       " ('software', 295),\n",
       " ('sr', 93),\n",
       " ('project', 50),\n",
       " ('principal', 46),\n",
       " ('design', 45),\n",
       " ('staff', 43),\n",
       " ('and', 40),\n",
       " ('network', 39),\n",
       " ('sales', 38),\n",
       " ('ii', 37),\n",
       " ('systems', 33),\n",
       " ('development', 32),\n",
       " ('mechanical', 30),\n",
       " ('for', 30),\n",
       " ('test', 29),\n",
       " ('applications', 28),\n",
       " ('devops', 24),\n",
       " ('security', 22),\n",
       " ('reliability', 22),\n",
       " ('front', 22),\n",
       " ('end', 22),\n",
       " ('civil', 21),\n",
       " ('site', 21)]"
      ]
     },
     "execution_count": 11,
     "metadata": {},
     "output_type": "execute_result"
    }
   ],
   "source": [
    "most_frequent_words(eng_data)"
   ]
  },
  {
   "cell_type": "code",
   "execution_count": 12,
   "metadata": {},
   "outputs": [
    {
     "data": {
      "text/plain": [
       "[('rn', 206),\n",
       " ('manager', 134),\n",
       " ('finance', 131),\n",
       " ('center', 124),\n",
       " ('medical', 110),\n",
       " ('care', 108),\n",
       " ('room', 68),\n",
       " ('santa', 64),\n",
       " ('fe', 61),\n",
       " ('senior', 53),\n",
       " ('prn', 53),\n",
       " ('analyst', 52),\n",
       " ('sales', 49),\n",
       " ('emergency', 48),\n",
       " ('nurse', 47),\n",
       " ('family', 46),\n",
       " ('rust', 41),\n",
       " ('urgent', 39),\n",
       " ('progressive', 36),\n",
       " ('adult', 35),\n",
       " ('health', 33),\n",
       " ('and', 32),\n",
       " ('clinic', 31),\n",
       " ('md', 31),\n",
       " ('parts', 30)]"
      ]
     },
     "execution_count": 12,
     "metadata": {},
     "output_type": "execute_result"
    }
   ],
   "source": [
    "most_frequent_words(fn_data)"
   ]
  },
  {
   "cell_type": "code",
   "execution_count": 13,
   "metadata": {},
   "outputs": [
    {
     "data": {
      "text/plain": [
       "[('it', 519),\n",
       " ('support', 176),\n",
       " ('specialist', 150),\n",
       " ('engineer', 145),\n",
       " ('manager', 139),\n",
       " ('systems', 102),\n",
       " ('analyst', 88),\n",
       " ('senior', 88),\n",
       " ('administrator', 71),\n",
       " ('project', 56),\n",
       " ('network', 52),\n",
       " ('business', 43),\n",
       " ('technician', 42),\n",
       " ('security', 41),\n",
       " ('technical', 38),\n",
       " ('system', 37),\n",
       " ('information', 36),\n",
       " ('sr', 35),\n",
       " ('technology', 34),\n",
       " ('desk', 33),\n",
       " ('application', 31),\n",
       " ('and', 30),\n",
       " ('i', 28),\n",
       " ('services', 27),\n",
       " ('director', 27)]"
      ]
     },
     "execution_count": 13,
     "metadata": {},
     "output_type": "execute_result"
    }
   ],
   "source": [
    "most_frequent_words(it_data)"
   ]
  },
  {
   "cell_type": "code",
   "execution_count": 14,
   "metadata": {},
   "outputs": [
    {
     "data": {
      "text/plain": [
       "[('marketing', 547),\n",
       " ('manager', 237),\n",
       " ('sales', 220),\n",
       " ('and', 92),\n",
       " ('director', 91),\n",
       " ('specialist', 78),\n",
       " ('representative', 77),\n",
       " ('coordinator', 58),\n",
       " ('associate', 58),\n",
       " ('senior', 54),\n",
       " ('digital', 52),\n",
       " ('of', 51),\n",
       " ('product', 42),\n",
       " ('account', 37),\n",
       " ('assistant', 31),\n",
       " ('executive', 28),\n",
       " ('development', 27),\n",
       " ('customer', 25),\n",
       " ('sr', 25),\n",
       " ('consultant', 21),\n",
       " ('lead', 21),\n",
       " ('software', 20),\n",
       " ('outside', 19),\n",
       " ('engineer', 19),\n",
       " ('business', 18)]"
      ]
     },
     "execution_count": 14,
     "metadata": {},
     "output_type": "execute_result"
    }
   ],
   "source": [
    "most_frequent_words(mk_data)"
   ]
  }
 ],
 "metadata": {
  "kernelspec": {
   "display_name": "Python 3",
   "language": "python",
   "name": "python3"
  },
  "language_info": {
   "codemirror_mode": {
    "name": "ipython",
    "version": 3
   },
   "file_extension": ".py",
   "mimetype": "text/x-python",
   "name": "python",
   "nbconvert_exporter": "python",
   "pygments_lexer": "ipython3",
   "version": "3.6.5"
  }
 },
 "nbformat": 4,
 "nbformat_minor": 2
}
